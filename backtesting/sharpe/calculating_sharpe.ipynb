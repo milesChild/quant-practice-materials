{
 "cells": [
  {
   "attachments": {},
   "cell_type": "markdown",
   "metadata": {},
   "source": [
    "# Calculating sharpe for long-only and market neutral strategies"
   ]
  },
  {
   "cell_type": "code",
   "execution_count": 1,
   "metadata": {},
   "outputs": [],
   "source": [
    "# imports\n",
    "import pandas as pd\n",
    "import numpy as np\n",
    "import matplotlib.pyplot as plt\n",
    "import yfinance as yf\n",
    "import xlwt"
   ]
  },
  {
   "attachments": {},
   "cell_type": "markdown",
   "metadata": {},
   "source": [
    "# Strategy Description:\n",
    "\n",
    "Buy and hold a share of $IGE since the close of November 26, 2001 and sell at the close of November 14, 2007. Compare with an identical strategy but instead with SPY.\n",
    "\n",
    "Assumptions:\n",
    "- rfr: 4%"
   ]
  },
  {
   "cell_type": "code",
   "execution_count": 2,
   "metadata": {},
   "outputs": [
    {
     "name": "stdout",
     "output_type": "stream",
     "text": [
      "[*********************100%***********************]  1 of 1 completed\n"
     ]
    },
    {
     "name": "stderr",
     "output_type": "stream",
     "text": [
      "/var/folders/rs/k8yvpht95zxbr8d7v79msjk00000gn/T/ipykernel_52276/4038692001.py:2: FutureWarning: As the xlwt package is no longer maintained, the xlwt engine will be removed in a future version of pandas. This is the only engine in pandas that supports writing in the xls format. Install openpyxl and write to an xlsx file instead. You can set the option io.excel.xls.writer to 'xlwt' to silence this warning. While this option is deprecated and will also raise a warning, it can be globally set and the warning suppressed.\n",
      "  IGE.to_excel('IGE.xls')\n"
     ]
    }
   ],
   "source": [
    "IGE = yf.download('IGE', start='2001-11-26', end='2007-11-14')\n",
    "IGE.to_excel('IGE.xls')"
   ]
  },
  {
   "cell_type": "code",
   "execution_count": 3,
   "metadata": {},
   "outputs": [
    {
     "data": {
      "text/html": [
       "<div>\n",
       "<style scoped>\n",
       "    .dataframe tbody tr th:only-of-type {\n",
       "        vertical-align: middle;\n",
       "    }\n",
       "\n",
       "    .dataframe tbody tr th {\n",
       "        vertical-align: top;\n",
       "    }\n",
       "\n",
       "    .dataframe thead th {\n",
       "        text-align: right;\n",
       "    }\n",
       "</style>\n",
       "<table border=\"1\" class=\"dataframe\">\n",
       "  <thead>\n",
       "    <tr style=\"text-align: right;\">\n",
       "      <th></th>\n",
       "      <th>Date</th>\n",
       "      <th>Open</th>\n",
       "      <th>High</th>\n",
       "      <th>Low</th>\n",
       "      <th>Close</th>\n",
       "      <th>Adj Close</th>\n",
       "      <th>Volume</th>\n",
       "    </tr>\n",
       "  </thead>\n",
       "  <tbody>\n",
       "    <tr>\n",
       "      <th>0</th>\n",
       "      <td>2001-11-26</td>\n",
       "      <td>15.168333</td>\n",
       "      <td>15.168333</td>\n",
       "      <td>15.168333</td>\n",
       "      <td>15.168333</td>\n",
       "      <td>9.939943</td>\n",
       "      <td>0</td>\n",
       "    </tr>\n",
       "    <tr>\n",
       "      <th>1</th>\n",
       "      <td>2001-11-27</td>\n",
       "      <td>15.168333</td>\n",
       "      <td>15.168333</td>\n",
       "      <td>15.168333</td>\n",
       "      <td>15.168333</td>\n",
       "      <td>9.939943</td>\n",
       "      <td>0</td>\n",
       "    </tr>\n",
       "    <tr>\n",
       "      <th>2</th>\n",
       "      <td>2001-11-28</td>\n",
       "      <td>15.168333</td>\n",
       "      <td>15.168333</td>\n",
       "      <td>15.168333</td>\n",
       "      <td>15.168333</td>\n",
       "      <td>9.939943</td>\n",
       "      <td>0</td>\n",
       "    </tr>\n",
       "    <tr>\n",
       "      <th>3</th>\n",
       "      <td>2001-11-29</td>\n",
       "      <td>15.168333</td>\n",
       "      <td>15.168333</td>\n",
       "      <td>15.168333</td>\n",
       "      <td>15.168333</td>\n",
       "      <td>9.939943</td>\n",
       "      <td>0</td>\n",
       "    </tr>\n",
       "    <tr>\n",
       "      <th>4</th>\n",
       "      <td>2001-11-30</td>\n",
       "      <td>15.220000</td>\n",
       "      <td>15.220000</td>\n",
       "      <td>15.220000</td>\n",
       "      <td>15.220000</td>\n",
       "      <td>9.973801</td>\n",
       "      <td>600</td>\n",
       "    </tr>\n",
       "  </tbody>\n",
       "</table>\n",
       "</div>"
      ],
      "text/plain": [
       "        Date       Open       High        Low      Close  Adj Close  Volume\n",
       "0 2001-11-26  15.168333  15.168333  15.168333  15.168333   9.939943       0\n",
       "1 2001-11-27  15.168333  15.168333  15.168333  15.168333   9.939943       0\n",
       "2 2001-11-28  15.168333  15.168333  15.168333  15.168333   9.939943       0\n",
       "3 2001-11-29  15.168333  15.168333  15.168333  15.168333   9.939943       0\n",
       "4 2001-11-30  15.220000  15.220000  15.220000  15.220000   9.973801     600"
      ]
     },
     "execution_count": 3,
     "metadata": {},
     "output_type": "execute_result"
    }
   ],
   "source": [
    "df = pd.read_excel('IGE.xls')\n",
    "df.sort_values(by='Date', inplace=True)\n",
    "df.head()"
   ]
  },
  {
   "cell_type": "code",
   "execution_count": 4,
   "metadata": {},
   "outputs": [
    {
     "data": {
      "text/plain": [
       "count    1502.000000\n",
       "mean        0.000828\n",
       "std         0.013496\n",
       "min        -0.056662\n",
       "25%        -0.006935\n",
       "50%         0.001119\n",
       "75%         0.009210\n",
       "max         0.066496\n",
       "Name: Adj Close, dtype: float64"
      ]
     },
     "execution_count": 4,
     "metadata": {},
     "output_type": "execute_result"
    }
   ],
   "source": [
    "# Calculate the daily returns\n",
    "dailyreturns = df['Adj Close'].pct_change()\n",
    "dailyreturns.describe()"
   ]
  },
  {
   "cell_type": "code",
   "execution_count": 5,
   "metadata": {},
   "outputs": [
    {
     "data": {
      "text/plain": [
       "0         NaN\n",
       "1   -0.000159\n",
       "2   -0.000159\n",
       "3   -0.000159\n",
       "4    0.003247\n",
       "5   -0.000159\n",
       "6    0.014296\n",
       "7   -0.000159\n",
       "8    0.015817\n",
       "9   -0.021196\n",
       "Name: Adj Close, dtype: float64"
      ]
     },
     "execution_count": 5,
     "metadata": {},
     "output_type": "execute_result"
    }
   ],
   "source": [
    "# Calculate the excess returns using the rfr as a benchmark\n",
    "excessreturns = dailyreturns - 0.04/252  # <-- ExR = DailyR - Financing Cost\n",
    "excessreturns.head(10)"
   ]
  },
  {
   "cell_type": "code",
   "execution_count": 6,
   "metadata": {},
   "outputs": [
    {
     "name": "stdout",
     "output_type": "stream",
     "text": [
      "Sharpe Ratio: 0.7872\n"
     ]
    }
   ],
   "source": [
    "sharpe = np.sqrt(252) * np.mean(excessreturns) / np.std(excessreturns)\n",
    "print(f'Sharpe Ratio: {sharpe:.4f}')"
   ]
  },
  {
   "cell_type": "code",
   "execution_count": 7,
   "metadata": {},
   "outputs": [
    {
     "name": "stdout",
     "output_type": "stream",
     "text": [
      "[*********************100%***********************]  1 of 1 completed\n"
     ]
    },
    {
     "name": "stderr",
     "output_type": "stream",
     "text": [
      "/var/folders/rs/k8yvpht95zxbr8d7v79msjk00000gn/T/ipykernel_52276/195149342.py:2: FutureWarning: As the xlwt package is no longer maintained, the xlwt engine will be removed in a future version of pandas. This is the only engine in pandas that supports writing in the xls format. Install openpyxl and write to an xlsx file instead. You can set the option io.excel.xls.writer to 'xlwt' to silence this warning. While this option is deprecated and will also raise a warning, it can be globally set and the warning suppressed.\n",
      "  SPY.to_excel('SPY.xls')\n"
     ]
    }
   ],
   "source": [
    "SPY = yf.download('SPY', start='2001-11-26', end='2007-11-14')\n",
    "SPY.to_excel('SPY.xls')"
   ]
  },
  {
   "cell_type": "code",
   "execution_count": 14,
   "metadata": {},
   "outputs": [
    {
     "data": {
      "text/html": [
       "<div>\n",
       "<style scoped>\n",
       "    .dataframe tbody tr th:only-of-type {\n",
       "        vertical-align: middle;\n",
       "    }\n",
       "\n",
       "    .dataframe tbody tr th {\n",
       "        vertical-align: top;\n",
       "    }\n",
       "\n",
       "    .dataframe thead th {\n",
       "        text-align: right;\n",
       "    }\n",
       "</style>\n",
       "<table border=\"1\" class=\"dataframe\">\n",
       "  <thead>\n",
       "    <tr style=\"text-align: right;\">\n",
       "      <th></th>\n",
       "      <th>Date</th>\n",
       "      <th>Open</th>\n",
       "      <th>High</th>\n",
       "      <th>Low</th>\n",
       "      <th>Close</th>\n",
       "      <th>Adj Close</th>\n",
       "      <th>Volume</th>\n",
       "    </tr>\n",
       "  </thead>\n",
       "  <tbody>\n",
       "    <tr>\n",
       "      <th>0</th>\n",
       "      <td>2001-11-26</td>\n",
       "      <td>115.750000</td>\n",
       "      <td>116.339996</td>\n",
       "      <td>115.070000</td>\n",
       "      <td>115.930000</td>\n",
       "      <td>77.486076</td>\n",
       "      <td>13726000</td>\n",
       "    </tr>\n",
       "    <tr>\n",
       "      <th>1</th>\n",
       "      <td>2001-11-27</td>\n",
       "      <td>115.620003</td>\n",
       "      <td>116.900002</td>\n",
       "      <td>114.089996</td>\n",
       "      <td>115.430000</td>\n",
       "      <td>77.151886</td>\n",
       "      <td>19261400</td>\n",
       "    </tr>\n",
       "    <tr>\n",
       "      <th>2</th>\n",
       "      <td>2001-11-28</td>\n",
       "      <td>114.739998</td>\n",
       "      <td>115.169998</td>\n",
       "      <td>113.250000</td>\n",
       "      <td>113.339996</td>\n",
       "      <td>75.754929</td>\n",
       "      <td>20195500</td>\n",
       "    </tr>\n",
       "    <tr>\n",
       "      <th>3</th>\n",
       "      <td>2001-11-29</td>\n",
       "      <td>113.660004</td>\n",
       "      <td>114.919998</td>\n",
       "      <td>113.000000</td>\n",
       "      <td>114.870003</td>\n",
       "      <td>76.777603</td>\n",
       "      <td>16354700</td>\n",
       "    </tr>\n",
       "    <tr>\n",
       "      <th>4</th>\n",
       "      <td>2001-11-30</td>\n",
       "      <td>114.400002</td>\n",
       "      <td>114.910004</td>\n",
       "      <td>114.019997</td>\n",
       "      <td>114.050003</td>\n",
       "      <td>76.229500</td>\n",
       "      <td>13680300</td>\n",
       "    </tr>\n",
       "  </tbody>\n",
       "</table>\n",
       "</div>"
      ],
      "text/plain": [
       "        Date        Open        High         Low       Close  Adj Close  \\\n",
       "0 2001-11-26  115.750000  116.339996  115.070000  115.930000  77.486076   \n",
       "1 2001-11-27  115.620003  116.900002  114.089996  115.430000  77.151886   \n",
       "2 2001-11-28  114.739998  115.169998  113.250000  113.339996  75.754929   \n",
       "3 2001-11-29  113.660004  114.919998  113.000000  114.870003  76.777603   \n",
       "4 2001-11-30  114.400002  114.910004  114.019997  114.050003  76.229500   \n",
       "\n",
       "     Volume  \n",
       "0  13726000  \n",
       "1  19261400  \n",
       "2  20195500  \n",
       "3  16354700  \n",
       "4  13680300  "
      ]
     },
     "execution_count": 14,
     "metadata": {},
     "output_type": "execute_result"
    }
   ],
   "source": [
    "df2 = pd.read_excel('SPY.xls')\n",
    "df2.head()"
   ]
  },
  {
   "cell_type": "code",
   "execution_count": 15,
   "metadata": {},
   "outputs": [
    {
     "data": {
      "text/html": [
       "<div>\n",
       "<style scoped>\n",
       "    .dataframe tbody tr th:only-of-type {\n",
       "        vertical-align: middle;\n",
       "    }\n",
       "\n",
       "    .dataframe tbody tr th {\n",
       "        vertical-align: top;\n",
       "    }\n",
       "\n",
       "    .dataframe thead th {\n",
       "        text-align: right;\n",
       "    }\n",
       "</style>\n",
       "<table border=\"1\" class=\"dataframe\">\n",
       "  <thead>\n",
       "    <tr style=\"text-align: right;\">\n",
       "      <th></th>\n",
       "      <th>Date</th>\n",
       "      <th>Open_IGE</th>\n",
       "      <th>High_IGE</th>\n",
       "      <th>Low_IGE</th>\n",
       "      <th>Close_IGE</th>\n",
       "      <th>Adj Close_IGE</th>\n",
       "      <th>Volume_IGE</th>\n",
       "      <th>Open_SPY</th>\n",
       "      <th>High_SPY</th>\n",
       "      <th>Low_SPY</th>\n",
       "      <th>Close_SPY</th>\n",
       "      <th>Adj Close_SPY</th>\n",
       "      <th>Volume_SPY</th>\n",
       "      <th>Open</th>\n",
       "      <th>High</th>\n",
       "      <th>Low</th>\n",
       "      <th>Close</th>\n",
       "      <th>Adj Close</th>\n",
       "      <th>Volume</th>\n",
       "    </tr>\n",
       "  </thead>\n",
       "  <tbody>\n",
       "    <tr>\n",
       "      <th>0</th>\n",
       "      <td>2001-11-26</td>\n",
       "      <td>15.168333</td>\n",
       "      <td>15.168333</td>\n",
       "      <td>15.168333</td>\n",
       "      <td>15.168333</td>\n",
       "      <td>9.939943</td>\n",
       "      <td>0</td>\n",
       "      <td>115.750000</td>\n",
       "      <td>116.339996</td>\n",
       "      <td>115.070000</td>\n",
       "      <td>115.930000</td>\n",
       "      <td>77.486076</td>\n",
       "      <td>13726000</td>\n",
       "      <td>115.750000</td>\n",
       "      <td>116.339996</td>\n",
       "      <td>115.070000</td>\n",
       "      <td>115.930000</td>\n",
       "      <td>77.486076</td>\n",
       "      <td>13726000</td>\n",
       "    </tr>\n",
       "    <tr>\n",
       "      <th>1</th>\n",
       "      <td>2001-11-27</td>\n",
       "      <td>15.168333</td>\n",
       "      <td>15.168333</td>\n",
       "      <td>15.168333</td>\n",
       "      <td>15.168333</td>\n",
       "      <td>9.939943</td>\n",
       "      <td>0</td>\n",
       "      <td>115.620003</td>\n",
       "      <td>116.900002</td>\n",
       "      <td>114.089996</td>\n",
       "      <td>115.430000</td>\n",
       "      <td>77.151886</td>\n",
       "      <td>19261400</td>\n",
       "      <td>115.620003</td>\n",
       "      <td>116.900002</td>\n",
       "      <td>114.089996</td>\n",
       "      <td>115.430000</td>\n",
       "      <td>77.151886</td>\n",
       "      <td>19261400</td>\n",
       "    </tr>\n",
       "    <tr>\n",
       "      <th>2</th>\n",
       "      <td>2001-11-28</td>\n",
       "      <td>15.168333</td>\n",
       "      <td>15.168333</td>\n",
       "      <td>15.168333</td>\n",
       "      <td>15.168333</td>\n",
       "      <td>9.939943</td>\n",
       "      <td>0</td>\n",
       "      <td>114.739998</td>\n",
       "      <td>115.169998</td>\n",
       "      <td>113.250000</td>\n",
       "      <td>113.339996</td>\n",
       "      <td>75.754929</td>\n",
       "      <td>20195500</td>\n",
       "      <td>114.739998</td>\n",
       "      <td>115.169998</td>\n",
       "      <td>113.250000</td>\n",
       "      <td>113.339996</td>\n",
       "      <td>75.754929</td>\n",
       "      <td>20195500</td>\n",
       "    </tr>\n",
       "    <tr>\n",
       "      <th>3</th>\n",
       "      <td>2001-11-29</td>\n",
       "      <td>15.168333</td>\n",
       "      <td>15.168333</td>\n",
       "      <td>15.168333</td>\n",
       "      <td>15.168333</td>\n",
       "      <td>9.939943</td>\n",
       "      <td>0</td>\n",
       "      <td>113.660004</td>\n",
       "      <td>114.919998</td>\n",
       "      <td>113.000000</td>\n",
       "      <td>114.870003</td>\n",
       "      <td>76.777603</td>\n",
       "      <td>16354700</td>\n",
       "      <td>113.660004</td>\n",
       "      <td>114.919998</td>\n",
       "      <td>113.000000</td>\n",
       "      <td>114.870003</td>\n",
       "      <td>76.777603</td>\n",
       "      <td>16354700</td>\n",
       "    </tr>\n",
       "    <tr>\n",
       "      <th>4</th>\n",
       "      <td>2001-11-30</td>\n",
       "      <td>15.220000</td>\n",
       "      <td>15.220000</td>\n",
       "      <td>15.220000</td>\n",
       "      <td>15.220000</td>\n",
       "      <td>9.973801</td>\n",
       "      <td>600</td>\n",
       "      <td>114.400002</td>\n",
       "      <td>114.910004</td>\n",
       "      <td>114.019997</td>\n",
       "      <td>114.050003</td>\n",
       "      <td>76.229500</td>\n",
       "      <td>13680300</td>\n",
       "      <td>114.400002</td>\n",
       "      <td>114.910004</td>\n",
       "      <td>114.019997</td>\n",
       "      <td>114.050003</td>\n",
       "      <td>76.229500</td>\n",
       "      <td>13680300</td>\n",
       "    </tr>\n",
       "  </tbody>\n",
       "</table>\n",
       "</div>"
      ],
      "text/plain": [
       "        Date   Open_IGE   High_IGE    Low_IGE  Close_IGE  Adj Close_IGE  \\\n",
       "0 2001-11-26  15.168333  15.168333  15.168333  15.168333       9.939943   \n",
       "1 2001-11-27  15.168333  15.168333  15.168333  15.168333       9.939943   \n",
       "2 2001-11-28  15.168333  15.168333  15.168333  15.168333       9.939943   \n",
       "3 2001-11-29  15.168333  15.168333  15.168333  15.168333       9.939943   \n",
       "4 2001-11-30  15.220000  15.220000  15.220000  15.220000       9.973801   \n",
       "\n",
       "   Volume_IGE    Open_SPY    High_SPY     Low_SPY   Close_SPY  Adj Close_SPY  \\\n",
       "0           0  115.750000  116.339996  115.070000  115.930000      77.486076   \n",
       "1           0  115.620003  116.900002  114.089996  115.430000      77.151886   \n",
       "2           0  114.739998  115.169998  113.250000  113.339996      75.754929   \n",
       "3           0  113.660004  114.919998  113.000000  114.870003      76.777603   \n",
       "4         600  114.400002  114.910004  114.019997  114.050003      76.229500   \n",
       "\n",
       "   Volume_SPY        Open        High         Low       Close  Adj Close  \\\n",
       "0    13726000  115.750000  116.339996  115.070000  115.930000  77.486076   \n",
       "1    19261400  115.620003  116.900002  114.089996  115.430000  77.151886   \n",
       "2    20195500  114.739998  115.169998  113.250000  113.339996  75.754929   \n",
       "3    16354700  113.660004  114.919998  113.000000  114.870003  76.777603   \n",
       "4    13680300  114.400002  114.910004  114.019997  114.050003  76.229500   \n",
       "\n",
       "     Volume  \n",
       "0  13726000  \n",
       "1  19261400  \n",
       "2  20195500  \n",
       "3  16354700  \n",
       "4  13680300  "
      ]
     },
     "execution_count": 15,
     "metadata": {},
     "output_type": "execute_result"
    }
   ],
   "source": [
    "df = pd.merge(df, df2, on='Date', suffixes=('_IGE', '_SPY'))\n",
    "df.head()"
   ]
  },
  {
   "cell_type": "code",
   "execution_count": 16,
   "metadata": {},
   "outputs": [
    {
     "data": {
      "text/html": [
       "<div>\n",
       "<style scoped>\n",
       "    .dataframe tbody tr th:only-of-type {\n",
       "        vertical-align: middle;\n",
       "    }\n",
       "\n",
       "    .dataframe tbody tr th {\n",
       "        vertical-align: top;\n",
       "    }\n",
       "\n",
       "    .dataframe thead th {\n",
       "        text-align: right;\n",
       "    }\n",
       "</style>\n",
       "<table border=\"1\" class=\"dataframe\">\n",
       "  <thead>\n",
       "    <tr style=\"text-align: right;\">\n",
       "      <th></th>\n",
       "      <th>Adj Close_IGE</th>\n",
       "      <th>Adj Close_SPY</th>\n",
       "    </tr>\n",
       "    <tr>\n",
       "      <th>Date</th>\n",
       "      <th></th>\n",
       "      <th></th>\n",
       "    </tr>\n",
       "  </thead>\n",
       "  <tbody>\n",
       "    <tr>\n",
       "      <th>2001-11-26</th>\n",
       "      <td>NaN</td>\n",
       "      <td>NaN</td>\n",
       "    </tr>\n",
       "    <tr>\n",
       "      <th>2001-11-27</th>\n",
       "      <td>0.000000</td>\n",
       "      <td>-0.004313</td>\n",
       "    </tr>\n",
       "    <tr>\n",
       "      <th>2001-11-28</th>\n",
       "      <td>0.000000</td>\n",
       "      <td>-0.018107</td>\n",
       "    </tr>\n",
       "    <tr>\n",
       "      <th>2001-11-29</th>\n",
       "      <td>0.000000</td>\n",
       "      <td>0.013500</td>\n",
       "    </tr>\n",
       "    <tr>\n",
       "      <th>2001-11-30</th>\n",
       "      <td>0.003406</td>\n",
       "      <td>-0.007139</td>\n",
       "    </tr>\n",
       "  </tbody>\n",
       "</table>\n",
       "</div>"
      ],
      "text/plain": [
       "            Adj Close_IGE  Adj Close_SPY\n",
       "Date                                    \n",
       "2001-11-26            NaN            NaN\n",
       "2001-11-27       0.000000      -0.004313\n",
       "2001-11-28       0.000000      -0.018107\n",
       "2001-11-29       0.000000       0.013500\n",
       "2001-11-30       0.003406      -0.007139"
      ]
     },
     "execution_count": 16,
     "metadata": {},
     "output_type": "execute_result"
    }
   ],
   "source": [
    "df['Date'] = pd.to_datetime(df['Date'])\n",
    "df.set_index('Date', inplace=True)\n",
    "df.sort_index(inplace=True)\n",
    "dailyret = df[['Adj Close_IGE', 'Adj Close_SPY']].pct_change()\n",
    "dailyret.head()"
   ]
  },
  {
   "cell_type": "code",
   "execution_count": 17,
   "metadata": {},
   "outputs": [
    {
     "name": "stdout",
     "output_type": "stream",
     "text": [
      "Sharpe Ratio: 0.7695\n"
     ]
    }
   ],
   "source": [
    "dailyret.rename(columns={'Adj Close_IGE': 'IGE', 'Adj Close_SPY': 'SPY'}, inplace=True)\n",
    "netRet = (dailyret['IGE'] - dailyret['SPY']) / 2\n",
    "sharpe = np.sqrt(252) * np.mean(netRet) / np.std(netRet)\n",
    "print(f'Sharpe Ratio: {sharpe:.4f}')"
   ]
  },
  {
   "cell_type": "code",
   "execution_count": 18,
   "metadata": {},
   "outputs": [
    {
     "name": "stdout",
     "output_type": "stream",
     "text": [
      "Stored 'netRet' (Series)\n"
     ]
    }
   ],
   "source": [
    "# Store netRet to be used in another notebook...\n",
    "%store netRet"
   ]
  },
  {
   "cell_type": "code",
   "execution_count": null,
   "metadata": {},
   "outputs": [],
   "source": []
  }
 ],
 "metadata": {
  "kernelspec": {
   "display_name": "Python 3",
   "language": "python",
   "name": "python3"
  },
  "language_info": {
   "codemirror_mode": {
    "name": "ipython",
    "version": 3
   },
   "file_extension": ".py",
   "mimetype": "text/x-python",
   "name": "python",
   "nbconvert_exporter": "python",
   "pygments_lexer": "ipython3",
   "version": "3.9.12 (main, Apr  5 2022, 01:53:17) \n[Clang 12.0.0 ]"
  },
  "orig_nbformat": 4,
  "vscode": {
   "interpreter": {
    "hash": "6878569262a6e222d2bf9767f8c76a5e9f33c66f4b81d8aa952494e1f3a0e918"
   }
  }
 },
 "nbformat": 4,
 "nbformat_minor": 2
}
