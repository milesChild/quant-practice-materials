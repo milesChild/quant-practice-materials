{
 "cells": [
  {
   "cell_type": "code",
   "execution_count": 1,
   "metadata": {},
   "outputs": [],
   "source": [
    "# import the cointegration model\n",
    "from cointegration_model import CointegrationModel"
   ]
  },
  {
   "cell_type": "code",
   "execution_count": 2,
   "metadata": {},
   "outputs": [
    {
     "name": "stdout",
     "output_type": "stream",
     "text": [
      "Initializing data from yfinance...\n",
      "[*********************100%***********************]  1 of 1 completed\n",
      "[*********************100%***********************]  1 of 1 completed\n",
      "Cleaning the data...\n",
      "Checking for a hedge ratio...\n"
     ]
    },
    {
     "ename": "Exception",
     "evalue": "Unable to obtain the last price entries of the primary and secondary symbols. Error trace: 'DataFrame' object has no attribute 'avg'",
     "output_type": "error",
     "traceback": [
      "\u001b[0;31m---------------------------------------------------------------------------\u001b[0m",
      "\u001b[0;31mAttributeError\u001b[0m                            Traceback (most recent call last)",
      "File \u001b[0;32m~/Desktop/codeProjects/quant-practice-materials/backtesting/models/cointegration_model.py:72\u001b[0m, in \u001b[0;36mCointegrationModel.__init_hedge_ratio\u001b[0;34m(self)\u001b[0m\n\u001b[1;32m     71\u001b[0m \u001b[39mtry\u001b[39;00m:\n\u001b[0;32m---> 72\u001b[0m     last_primary_price \u001b[39m=\u001b[39m \u001b[39mself\u001b[39;49m\u001b[39m.\u001b[39;49mmerged_df[\u001b[39mf\u001b[39;49m\u001b[39m'\u001b[39;49m\u001b[39mAdj Close_\u001b[39;49m\u001b[39m{\u001b[39;49;00m\u001b[39mself\u001b[39;49m\u001b[39m.\u001b[39;49mprimary_symbol\u001b[39m}\u001b[39;49;00m\u001b[39m'\u001b[39;49m]\u001b[39m.\u001b[39;49mavg()\n\u001b[1;32m     73\u001b[0m     last_secondary_price \u001b[39m=\u001b[39m \u001b[39mself\u001b[39m\u001b[39m.\u001b[39mmerged_df[\u001b[39mf\u001b[39m\u001b[39m'\u001b[39m\u001b[39mAdj Close_\u001b[39m\u001b[39m{\u001b[39;00m\u001b[39mself\u001b[39m\u001b[39m.\u001b[39msecondary_symbol\u001b[39m}\u001b[39;00m\u001b[39m'\u001b[39m]\u001b[39m.\u001b[39mavg()\n",
      "File \u001b[0;32m~/opt/miniconda3/lib/python3.9/site-packages/pandas/core/generic.py:5902\u001b[0m, in \u001b[0;36mNDFrame.__getattr__\u001b[0;34m(self, name)\u001b[0m\n\u001b[1;32m   5901\u001b[0m     \u001b[39mreturn\u001b[39;00m \u001b[39mself\u001b[39m[name]\n\u001b[0;32m-> 5902\u001b[0m \u001b[39mreturn\u001b[39;00m \u001b[39mobject\u001b[39;49m\u001b[39m.\u001b[39;49m\u001b[39m__getattribute__\u001b[39;49m(\u001b[39mself\u001b[39;49m, name)\n",
      "\u001b[0;31mAttributeError\u001b[0m: 'DataFrame' object has no attribute 'avg'",
      "\nDuring handling of the above exception, another exception occurred:\n",
      "\u001b[0;31mException\u001b[0m                                 Traceback (most recent call last)",
      "Cell \u001b[0;32mIn[2], line 1\u001b[0m\n\u001b[0;32m----> 1\u001b[0m model \u001b[39m=\u001b[39m CointegrationModel(primary\u001b[39m=\u001b[39;49m\u001b[39m\"\u001b[39;49m\u001b[39mSPY\u001b[39;49m\u001b[39m\"\u001b[39;49m, secondary\u001b[39m=\u001b[39;49m\u001b[39m\"\u001b[39;49m\u001b[39mSPY\u001b[39;49m\u001b[39m\"\u001b[39;49m, start_date\u001b[39m=\u001b[39;49m\u001b[39m\"\u001b[39;49m\u001b[39m2023-01-01\u001b[39;49m\u001b[39m\"\u001b[39;49m, end_date\u001b[39m=\u001b[39;49m\u001b[39m\"\u001b[39;49m\u001b[39m2023-2-20\u001b[39;49m\u001b[39m\"\u001b[39;49m)\n",
      "File \u001b[0;32m~/Desktop/codeProjects/quant-practice-materials/backtesting/models/cointegration_model.py:31\u001b[0m, in \u001b[0;36mCointegrationModel.__init__\u001b[0;34m(self, primary, secondary, start_date, end_date, interval)\u001b[0m\n\u001b[1;32m     29\u001b[0m \u001b[39mself\u001b[39m\u001b[39m.\u001b[39m__clean_data()\n\u001b[1;32m     30\u001b[0m \u001b[39mprint\u001b[39m(\u001b[39m\"\u001b[39m\u001b[39mChecking for a hedge ratio...\u001b[39m\u001b[39m\"\u001b[39m)\n\u001b[0;32m---> 31\u001b[0m \u001b[39mself\u001b[39;49m\u001b[39m.\u001b[39;49m__init_hedge_ratio()\n",
      "File \u001b[0;32m~/Desktop/codeProjects/quant-practice-materials/backtesting/models/cointegration_model.py:75\u001b[0m, in \u001b[0;36mCointegrationModel.__init_hedge_ratio\u001b[0;34m(self)\u001b[0m\n\u001b[1;32m     73\u001b[0m     last_secondary_price \u001b[39m=\u001b[39m \u001b[39mself\u001b[39m\u001b[39m.\u001b[39mmerged_df[\u001b[39mf\u001b[39m\u001b[39m'\u001b[39m\u001b[39mAdj Close_\u001b[39m\u001b[39m{\u001b[39;00m\u001b[39mself\u001b[39m\u001b[39m.\u001b[39msecondary_symbol\u001b[39m}\u001b[39;00m\u001b[39m'\u001b[39m]\u001b[39m.\u001b[39mavg()\n\u001b[1;32m     74\u001b[0m \u001b[39mexcept\u001b[39;00m \u001b[39mException\u001b[39;00m \u001b[39mas\u001b[39;00m e:\n\u001b[0;32m---> 75\u001b[0m     \u001b[39mraise\u001b[39;00m \u001b[39mException\u001b[39;00m(\u001b[39mf\u001b[39m\u001b[39m\"\u001b[39m\u001b[39mUnable to obtain the last price entries of the primary and secondary symbols. Error trace: \u001b[39m\u001b[39m{\u001b[39;00me\u001b[39m}\u001b[39;00m\u001b[39m\"\u001b[39m)\n\u001b[1;32m     76\u001b[0m \u001b[39mtry\u001b[39;00m:\n\u001b[1;32m     77\u001b[0m     \u001b[39mif\u001b[39;00m \u001b[39mabs\u001b[39m(last_primary_price \u001b[39m/\u001b[39m last_secondary_price) \u001b[39m>\u001b[39m \u001b[39m0.01\u001b[39m:\n",
      "\u001b[0;31mException\u001b[0m: Unable to obtain the last price entries of the primary and secondary symbols. Error trace: 'DataFrame' object has no attribute 'avg'"
     ]
    }
   ],
   "source": [
    "model = CointegrationModel(primary=\"SPY\", secondary=\"SPY\", start_date=\"2023-01-01\", end_date=\"2023-2-20\")"
   ]
  },
  {
   "cell_type": "code",
   "execution_count": 6,
   "metadata": {},
   "outputs": [
    {
     "name": "stdout",
     "output_type": "stream",
     "text": [
      "The p-value of 0.18179377188473989 is not sufficient to reject the null hypothesis that the two series are not cointegrated.\n",
      "Additional information:\n",
      "cointegration test statistic: -2.7509417285684505\n",
      "p-value: 0.18179377188473989\n",
      "critical values: [-4.27142809 -3.53373371 -3.17964375]\n"
     ]
    }
   ],
   "source": [
    "model.run_coint_test()"
   ]
  },
  {
   "cell_type": "code",
   "execution_count": null,
   "metadata": {},
   "outputs": [],
   "source": []
  }
 ],
 "metadata": {
  "kernelspec": {
   "display_name": "base",
   "language": "python",
   "name": "python3"
  },
  "language_info": {
   "codemirror_mode": {
    "name": "ipython",
    "version": 3
   },
   "file_extension": ".py",
   "mimetype": "text/x-python",
   "name": "python",
   "nbconvert_exporter": "python",
   "pygments_lexer": "ipython3",
   "version": "3.9.12 (main, Apr  5 2022, 01:53:17) \n[Clang 12.0.0 ]"
  },
  "orig_nbformat": 4,
  "vscode": {
   "interpreter": {
    "hash": "c44aa994c3291d7bb0242f243a95965d05fff15d3ffec4d67e7da920a928aef6"
   }
  }
 },
 "nbformat": 4,
 "nbformat_minor": 2
}
