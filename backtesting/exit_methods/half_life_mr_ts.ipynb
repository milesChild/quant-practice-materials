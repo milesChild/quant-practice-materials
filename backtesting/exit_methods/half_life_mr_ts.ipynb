{
 "cells": [
  {
   "attachments": {},
   "cell_type": "markdown",
   "metadata": {},
   "source": [
    "# Using the half life of a mean reverting time series to approximate optimal holding period.\n",
    "\n",
    "h(n): the average value of the mean-reverting spread of a pair of stocks follows an exponential decay to its mean $\\mu$, where the half life can be expressed as: $\\frac{\\ln(2)}{\\theta}$"
   ]
  },
  {
   "attachments": {},
   "cell_type": "markdown",
   "metadata": {},
   "source": [
    "## Mean Reverting Time Series:\n",
    "Ornstein-Uhlenbeck formula\n",
    "\n",
    "\n",
    "#### $dz(t)$ = $-\\theta(z(t)-\\mu) \\times dt + dW$\n",
    "\n",
    "- $z(t)$: mean-reverting spread of a pair ($long - short$)\n",
    "- $\\mu$: mean value of prices over time\n",
    "- $dW$: random Gaussian noise\n",
    "- $\\theta$: mean time taken for reversion"
   ]
  },
  {
   "attachments": {},
   "cell_type": "markdown",
   "metadata": {},
   "source": [
    "Note:\n",
    "- Optimal holding periods are best used as exit signals for mean reverting strategies\n",
    "- Half-life can be used in combination with the mean of a mean-reverting spread $\\mu$ (the 'target price') as a first-trigger exit system"
   ]
  },
  {
   "cell_type": "code",
   "execution_count": 26,
   "metadata": {},
   "outputs": [],
   "source": [
    "# imports\n",
    "import numpy as np\n",
    "import pandas as pd\n",
    "import matplotlib.pyplot as plt\n",
    "from statsmodels.tsa.stattools import coint\n",
    "from statsmodels.api import OLS"
   ]
  },
  {
   "attachments": {},
   "cell_type": "markdown",
   "metadata": {},
   "source": [
    "EDA"
   ]
  },
  {
   "cell_type": "code",
   "execution_count": 27,
   "metadata": {},
   "outputs": [],
   "source": [
    "# Bring in the data\n",
    "# Read in the file GLD.xls from the gld_gdx_algo folder.\n",
    "gld_df = pd.read_excel('GLD.xls')\n",
    "gdx_df = pd.read_excel('GDX.xls')"
   ]
  },
  {
   "cell_type": "code",
   "execution_count": 28,
   "metadata": {},
   "outputs": [
    {
     "data": {
      "text/html": [
       "<div>\n",
       "<style scoped>\n",
       "    .dataframe tbody tr th:only-of-type {\n",
       "        vertical-align: middle;\n",
       "    }\n",
       "\n",
       "    .dataframe tbody tr th {\n",
       "        vertical-align: top;\n",
       "    }\n",
       "\n",
       "    .dataframe thead th {\n",
       "        text-align: right;\n",
       "    }\n",
       "</style>\n",
       "<table border=\"1\" class=\"dataframe\">\n",
       "  <thead>\n",
       "    <tr style=\"text-align: right;\">\n",
       "      <th></th>\n",
       "      <th>Date</th>\n",
       "      <th>Open_GLD</th>\n",
       "      <th>High_GLD</th>\n",
       "      <th>Low_GLD</th>\n",
       "      <th>Close_GLD</th>\n",
       "      <th>Volume_GLD</th>\n",
       "      <th>Adj Close_GLD</th>\n",
       "      <th>Open_GDX</th>\n",
       "      <th>High_GDX</th>\n",
       "      <th>Low_GDX</th>\n",
       "      <th>Close_GDX</th>\n",
       "      <th>Volume_GDX</th>\n",
       "      <th>Adj Close_GDX</th>\n",
       "    </tr>\n",
       "  </thead>\n",
       "  <tbody>\n",
       "    <tr>\n",
       "      <th>0</th>\n",
       "      <td>2007-11-30</td>\n",
       "      <td>78.35</td>\n",
       "      <td>78.60</td>\n",
       "      <td>76.98</td>\n",
       "      <td>77.32</td>\n",
       "      <td>9509100</td>\n",
       "      <td>77.32</td>\n",
       "      <td>47.09</td>\n",
       "      <td>47.50</td>\n",
       "      <td>45.70</td>\n",
       "      <td>46.36</td>\n",
       "      <td>2006000</td>\n",
       "      <td>46.36</td>\n",
       "    </tr>\n",
       "    <tr>\n",
       "      <th>1</th>\n",
       "      <td>2007-11-29</td>\n",
       "      <td>79.28</td>\n",
       "      <td>79.33</td>\n",
       "      <td>78.28</td>\n",
       "      <td>78.28</td>\n",
       "      <td>9306700</td>\n",
       "      <td>78.28</td>\n",
       "      <td>47.10</td>\n",
       "      <td>48.00</td>\n",
       "      <td>46.76</td>\n",
       "      <td>47.02</td>\n",
       "      <td>1668500</td>\n",
       "      <td>47.02</td>\n",
       "    </tr>\n",
       "    <tr>\n",
       "      <th>2</th>\n",
       "      <td>2007-11-28</td>\n",
       "      <td>79.42</td>\n",
       "      <td>79.87</td>\n",
       "      <td>78.76</td>\n",
       "      <td>79.57</td>\n",
       "      <td>9706700</td>\n",
       "      <td>79.57</td>\n",
       "      <td>46.11</td>\n",
       "      <td>48.00</td>\n",
       "      <td>46.06</td>\n",
       "      <td>47.86</td>\n",
       "      <td>3893200</td>\n",
       "      <td>47.86</td>\n",
       "    </tr>\n",
       "    <tr>\n",
       "      <th>3</th>\n",
       "      <td>2007-11-27</td>\n",
       "      <td>80.70</td>\n",
       "      <td>80.89</td>\n",
       "      <td>79.81</td>\n",
       "      <td>80.10</td>\n",
       "      <td>7229900</td>\n",
       "      <td>80.10</td>\n",
       "      <td>46.84</td>\n",
       "      <td>46.84</td>\n",
       "      <td>45.74</td>\n",
       "      <td>46.61</td>\n",
       "      <td>2329700</td>\n",
       "      <td>46.61</td>\n",
       "    </tr>\n",
       "    <tr>\n",
       "      <th>4</th>\n",
       "      <td>2007-11-26</td>\n",
       "      <td>82.25</td>\n",
       "      <td>82.25</td>\n",
       "      <td>81.13</td>\n",
       "      <td>81.30</td>\n",
       "      <td>7440200</td>\n",
       "      <td>81.30</td>\n",
       "      <td>49.43</td>\n",
       "      <td>49.43</td>\n",
       "      <td>46.85</td>\n",
       "      <td>47.06</td>\n",
       "      <td>1966500</td>\n",
       "      <td>47.06</td>\n",
       "    </tr>\n",
       "  </tbody>\n",
       "</table>\n",
       "</div>"
      ],
      "text/plain": [
       "        Date  Open_GLD  High_GLD  Low_GLD  Close_GLD  Volume_GLD  \\\n",
       "0 2007-11-30     78.35     78.60    76.98      77.32     9509100   \n",
       "1 2007-11-29     79.28     79.33    78.28      78.28     9306700   \n",
       "2 2007-11-28     79.42     79.87    78.76      79.57     9706700   \n",
       "3 2007-11-27     80.70     80.89    79.81      80.10     7229900   \n",
       "4 2007-11-26     82.25     82.25    81.13      81.30     7440200   \n",
       "\n",
       "   Adj Close_GLD  Open_GDX  High_GDX  Low_GDX  Close_GDX  Volume_GDX  \\\n",
       "0          77.32     47.09     47.50    45.70      46.36     2006000   \n",
       "1          78.28     47.10     48.00    46.76      47.02     1668500   \n",
       "2          79.57     46.11     48.00    46.06      47.86     3893200   \n",
       "3          80.10     46.84     46.84    45.74      46.61     2329700   \n",
       "4          81.30     49.43     49.43    46.85      47.06     1966500   \n",
       "\n",
       "   Adj Close_GDX  \n",
       "0          46.36  \n",
       "1          47.02  \n",
       "2          47.86  \n",
       "3          46.61  \n",
       "4          47.06  "
      ]
     },
     "execution_count": 28,
     "metadata": {},
     "output_type": "execute_result"
    }
   ],
   "source": [
    "df = pd.merge(gld_df, gdx_df, on='Date', suffixes=('_GLD', '_GDX'))\n",
    "df.head()"
   ]
  },
  {
   "cell_type": "code",
   "execution_count": 29,
   "metadata": {},
   "outputs": [],
   "source": [
    "df.set_index('Date', inplace=True)\n",
    "df.sort_index(inplace=True)"
   ]
  },
  {
   "attachments": {},
   "cell_type": "markdown",
   "metadata": {},
   "source": [
    "Cointegration test: (Engle-Granger method)"
   ]
  },
  {
   "cell_type": "code",
   "execution_count": 30,
   "metadata": {},
   "outputs": [
    {
     "name": "stdout",
     "output_type": "stream",
     "text": [
      "Cointegration test results:\n",
      "Cointegration t-statistic: -3.698116076330058\n",
      "p-value: 0.018427835409537515\n",
      "Critical values: [-3.92518794 -3.35208799 -3.05551324]\n"
     ]
    }
   ],
   "source": [
    "coint_t, pvalue, crit_value = coint(df['Adj Close_GLD'], df['Adj Close_GDX'])\n",
    "print('Cointegration test results:')\n",
    "print(f'Cointegration t-statistic: {coint_t}')\n",
    "print(f'p-value: {pvalue}')\n",
    "print(f'Critical values: {crit_value}')"
   ]
  },
  {
   "attachments": {},
   "cell_type": "markdown",
   "metadata": {},
   "source": [
    "Calculate hedge ratio using ordinary least-squares regression."
   ]
  },
  {
   "cell_type": "code",
   "execution_count": 31,
   "metadata": {},
   "outputs": [
    {
     "name": "stdout",
     "output_type": "stream",
     "text": [
      "Hedge ratio: 1.6395227296497368\n"
     ]
    }
   ],
   "source": [
    "model = OLS(df['Adj Close_GLD'], df['Adj Close_GDX'])\n",
    "results = model.fit()\n",
    "hedge_ratio = results.params[0]\n",
    "print(f'Hedge ratio: {hedge_ratio}')"
   ]
  },
  {
   "cell_type": "code",
   "execution_count": 32,
   "metadata": {},
   "outputs": [
    {
     "data": {
      "image/png": "[encoded data removed]",
      "text/plain": [
       "<Figure size 640x480 with 1 Axes>"
      ]
     },
     "metadata": {},
     "output_type": "display_data"
    }
   ],
   "source": [
    "# spread (z) = GLD - hedge_ratio * GDX\n",
    "z = df['Adj Close_GLD'] - hedge_ratio * df['Adj Close_GDX']\n",
    "plt.plot(z)\n",
    "plt.title('Spread')\n",
    "plt.axhline(0, color='red')\n",
    "plt.show()"
   ]
  },
  {
   "cell_type": "code",
   "execution_count": 33,
   "metadata": {},
   "outputs": [],
   "source": [
    "prevz = z.shift()\n",
    "dz = z - prevz\n",
    "dz = dz[1:]\n",
    "prevz = prevz[1:]"
   ]
  },
  {
   "attachments": {},
   "cell_type": "markdown",
   "metadata": {},
   "source": [
    "Calculate $\\theta$ using ordinary least-squares regression."
   ]
  },
  {
   "cell_type": "code",
   "execution_count": 34,
   "metadata": {},
   "outputs": [
    {
     "name": "stdout",
     "output_type": "stream",
     "text": [
      "Theta: -0.08842255939100892\n"
     ]
    }
   ],
   "source": [
    "model2 = OLS(dz, prevz - np.mean(prevz))\n",
    "results2 = model2.fit()\n",
    "theta = results2.params[0]\n",
    "print(f'Theta: {theta}')"
   ]
  },
  {
   "attachments": {},
   "cell_type": "markdown",
   "metadata": {},
   "source": [
    "Calculate the halflife using the equation: $half life$ = $\\frac{\\ln(2)}{\\theta}$"
   ]
  },
  {
   "cell_type": "code",
   "execution_count": 35,
   "metadata": {},
   "outputs": [
    {
     "name": "stdout",
     "output_type": "stream",
     "text": [
      "Half-life: 7.83903095922404\n"
     ]
    }
   ],
   "source": [
    "half_life = -np.log(2) / theta\n",
    "print(f'Half-life: {half_life}')"
   ]
  },
  {
   "cell_type": "code",
   "execution_count": 37,
   "metadata": {},
   "outputs": [],
   "source": [
    "# Exit method:\n",
    "def determine_exit(hl, mu, position, spot):  # for mean reverting systems\n",
    "    \"\"\"\n",
    "    An exit is triggered if the trade has been held for the half-life of the spread || the mean of the historical spread has been reached.\n",
    "    :param hl: half-life of the spread\n",
    "    :param mu: mean of the historical spread\n",
    "    :param position: current position in the format {'entry_price': int, 'entry_date': datetime}\n",
    "    :param spot: current spot price\n",
    "    :return: boolean\n",
    "    \"\"\"\n",
    "    return position['entry_date'] + pd.Timedelta(hl, unit='D') < pd.Timestamp.now() or (position['entry_price'] < mu and spot >= mu) or (position['entry_price'] > mu and spot <= mu)"
   ]
  }
 ],
 "metadata": {
  "kernelspec": {
   "display_name": "base",
   "language": "python",
   "name": "python3"
  },
  "language_info": {
   "codemirror_mode": {
    "name": "ipython",
    "version": 3
   },
   "file_extension": ".py",
   "mimetype": "text/x-python",
   "name": "python",
   "nbconvert_exporter": "python",
   "pygments_lexer": "ipython3",
   "version": "3.9.12 (main, Apr  5 2022, 01:53:17) \n[Clang 12.0.0 ]"
  },
  "orig_nbformat": 4,
  "vscode": {
   "interpreter": {
    "hash": "c44aa994c3291d7bb0242f243a95965d05fff15d3ffec4d67e7da920a928aef6"
   }
  }
 },
 "nbformat": 4,
 "nbformat_minor": 2
}
