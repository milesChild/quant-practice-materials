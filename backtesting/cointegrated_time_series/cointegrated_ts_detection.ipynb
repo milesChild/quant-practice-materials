{
 "cells": [
  {
   "attachments": {},
   "cell_type": "markdown",
   "metadata": {},
   "source": [
    "# Methodology for determining if two time series are cointegrated.\n",
    "\n",
    "Cointegrated time series are stationary, meaning that deviations in their spread will eventually return to zero over time (linear combination of the two series is integrated of order zero). Cointegrated time series can be easily exploited in a mean reversion strategy in which trades are signaled by abnormal deviations in the spread of the two securities."
   ]
  },
  {
   "attachments": {},
   "cell_type": "markdown",
   "metadata": {},
   "source": [
    "Note:\n",
    "- Cointegration on a backtest does not always mean thhat the cointegration will continue into the future\n",
    "- Be careful of overtrading spread deviations so as to optimize the tradeoff between opportunity and transaction fees\n",
    "- Spreads are calculated using the hedge ratio between the two securities, which is essentially the number of shares of security two you need to purchase against the first security."
   ]
  },
  {
   "cell_type": "code",
   "execution_count": 2,
   "metadata": {},
   "outputs": [],
   "source": [
    "# imports\n",
    "import numpy as np\n",
    "import pandas as pd\n",
    "import matplotlib.pyplot as plt\n",
    "from statsmodels.tsa.stattools import coint\n",
    "from statsmodels.api import OLS\n",
    "import yfinance as yf"
   ]
  },
  {
   "cell_type": "code",
   "execution_count": 2,
   "metadata": {},
   "outputs": [],
   "source": [
    "# read data\n",
    "gld_df = pd.read_excel('GLD.xls')\n",
    "gdx_df = pd.read_excel('GDX.xls')"
   ]
  },
  {
   "cell_type": "code",
   "execution_count": 19,
   "metadata": {},
   "outputs": [
    {
     "name": "stdout",
     "output_type": "stream",
     "text": [
      "[*********************100%***********************]  1 of 1 completed\n",
      "[*********************100%***********************]  1 of 1 completed\n"
     ]
    }
   ],
   "source": [
    "# get historical price data from yfinance for PHYS and GLD\n",
    "phys = yf.download('PSLV', start='2018-01-01', end='2023-01-27')\n",
    "gld = yf.download('SLV', start='2018-01-01', end='2023-01-27')"
   ]
  },
  {
   "cell_type": "code",
   "execution_count": 21,
   "metadata": {},
   "outputs": [
    {
     "data": {
      "text/html": [
       "<div>\n",
       "<style scoped>\n",
       "    .dataframe tbody tr th:only-of-type {\n",
       "        vertical-align: middle;\n",
       "    }\n",
       "\n",
       "    .dataframe tbody tr th {\n",
       "        vertical-align: top;\n",
       "    }\n",
       "\n",
       "    .dataframe thead th {\n",
       "        text-align: right;\n",
       "    }\n",
       "</style>\n",
       "<table border=\"1\" class=\"dataframe\">\n",
       "  <thead>\n",
       "    <tr style=\"text-align: right;\">\n",
       "      <th></th>\n",
       "      <th>Open_GLD</th>\n",
       "      <th>High_GLD</th>\n",
       "      <th>Low_GLD</th>\n",
       "      <th>Close_GLD</th>\n",
       "      <th>Adj Close_GLD</th>\n",
       "      <th>Volume_GLD</th>\n",
       "      <th>Open_GDX</th>\n",
       "      <th>High_GDX</th>\n",
       "      <th>Low_GDX</th>\n",
       "      <th>Close_GDX</th>\n",
       "      <th>Adj Close_GDX</th>\n",
       "      <th>Volume_GDX</th>\n",
       "    </tr>\n",
       "    <tr>\n",
       "      <th>Date</th>\n",
       "      <th></th>\n",
       "      <th></th>\n",
       "      <th></th>\n",
       "      <th></th>\n",
       "      <th></th>\n",
       "      <th></th>\n",
       "      <th></th>\n",
       "      <th></th>\n",
       "      <th></th>\n",
       "      <th></th>\n",
       "      <th></th>\n",
       "      <th></th>\n",
       "    </tr>\n",
       "  </thead>\n",
       "  <tbody>\n",
       "    <tr>\n",
       "      <th>2018-01-02 00:00:00-05:00</th>\n",
       "      <td>6.37</td>\n",
       "      <td>6.44</td>\n",
       "      <td>6.37</td>\n",
       "      <td>6.42</td>\n",
       "      <td>6.42</td>\n",
       "      <td>532500</td>\n",
       "      <td>16.129999</td>\n",
       "      <td>16.230000</td>\n",
       "      <td>16.120001</td>\n",
       "      <td>16.209999</td>\n",
       "      <td>16.209999</td>\n",
       "      <td>8943200</td>\n",
       "    </tr>\n",
       "    <tr>\n",
       "      <th>2018-01-03 00:00:00-05:00</th>\n",
       "      <td>6.41</td>\n",
       "      <td>6.44</td>\n",
       "      <td>6.37</td>\n",
       "      <td>6.42</td>\n",
       "      <td>6.42</td>\n",
       "      <td>444800</td>\n",
       "      <td>16.190001</td>\n",
       "      <td>16.260000</td>\n",
       "      <td>16.090000</td>\n",
       "      <td>16.170000</td>\n",
       "      <td>16.170000</td>\n",
       "      <td>9149500</td>\n",
       "    </tr>\n",
       "    <tr>\n",
       "      <th>2018-01-04 00:00:00-05:00</th>\n",
       "      <td>6.42</td>\n",
       "      <td>6.45</td>\n",
       "      <td>6.41</td>\n",
       "      <td>6.43</td>\n",
       "      <td>6.43</td>\n",
       "      <td>358600</td>\n",
       "      <td>16.209999</td>\n",
       "      <td>16.299999</td>\n",
       "      <td>16.190001</td>\n",
       "      <td>16.230000</td>\n",
       "      <td>16.230000</td>\n",
       "      <td>7466300</td>\n",
       "    </tr>\n",
       "    <tr>\n",
       "      <th>2018-01-05 00:00:00-05:00</th>\n",
       "      <td>6.42</td>\n",
       "      <td>6.46</td>\n",
       "      <td>6.40</td>\n",
       "      <td>6.44</td>\n",
       "      <td>6.44</td>\n",
       "      <td>330800</td>\n",
       "      <td>16.180000</td>\n",
       "      <td>16.290001</td>\n",
       "      <td>16.160000</td>\n",
       "      <td>16.219999</td>\n",
       "      <td>16.219999</td>\n",
       "      <td>5651500</td>\n",
       "    </tr>\n",
       "    <tr>\n",
       "      <th>2018-01-08 00:00:00-05:00</th>\n",
       "      <td>6.40</td>\n",
       "      <td>6.42</td>\n",
       "      <td>6.36</td>\n",
       "      <td>6.39</td>\n",
       "      <td>6.39</td>\n",
       "      <td>514000</td>\n",
       "      <td>16.170000</td>\n",
       "      <td>16.190001</td>\n",
       "      <td>16.070000</td>\n",
       "      <td>16.150000</td>\n",
       "      <td>16.150000</td>\n",
       "      <td>6707000</td>\n",
       "    </tr>\n",
       "  </tbody>\n",
       "</table>\n",
       "</div>"
      ],
      "text/plain": [
       "                           Open_GLD  High_GLD  Low_GLD  Close_GLD  \\\n",
       "Date                                                                \n",
       "2018-01-02 00:00:00-05:00      6.37      6.44     6.37       6.42   \n",
       "2018-01-03 00:00:00-05:00      6.41      6.44     6.37       6.42   \n",
       "2018-01-04 00:00:00-05:00      6.42      6.45     6.41       6.43   \n",
       "2018-01-05 00:00:00-05:00      6.42      6.46     6.40       6.44   \n",
       "2018-01-08 00:00:00-05:00      6.40      6.42     6.36       6.39   \n",
       "\n",
       "                           Adj Close_GLD  Volume_GLD   Open_GDX   High_GDX  \\\n",
       "Date                                                                         \n",
       "2018-01-02 00:00:00-05:00           6.42      532500  16.129999  16.230000   \n",
       "2018-01-03 00:00:00-05:00           6.42      444800  16.190001  16.260000   \n",
       "2018-01-04 00:00:00-05:00           6.43      358600  16.209999  16.299999   \n",
       "2018-01-05 00:00:00-05:00           6.44      330800  16.180000  16.290001   \n",
       "2018-01-08 00:00:00-05:00           6.39      514000  16.170000  16.190001   \n",
       "\n",
       "                             Low_GDX  Close_GDX  Adj Close_GDX  Volume_GDX  \n",
       "Date                                                                        \n",
       "2018-01-02 00:00:00-05:00  16.120001  16.209999      16.209999     8943200  \n",
       "2018-01-03 00:00:00-05:00  16.090000  16.170000      16.170000     9149500  \n",
       "2018-01-04 00:00:00-05:00  16.190001  16.230000      16.230000     7466300  \n",
       "2018-01-05 00:00:00-05:00  16.160000  16.219999      16.219999     5651500  \n",
       "2018-01-08 00:00:00-05:00  16.070000  16.150000      16.150000     6707000  "
      ]
     },
     "execution_count": 21,
     "metadata": {},
     "output_type": "execute_result"
    }
   ],
   "source": [
    "df = pd.merge(phys, gld, on='Date', suffixes=('_GLD', '_GDX'))\n",
    "df.head()"
   ]
  },
  {
   "cell_type": "code",
   "execution_count": 22,
   "metadata": {},
   "outputs": [
    {
     "data": {
      "text/html": [
       "<div>\n",
       "<style scoped>\n",
       "    .dataframe tbody tr th:only-of-type {\n",
       "        vertical-align: middle;\n",
       "    }\n",
       "\n",
       "    .dataframe tbody tr th {\n",
       "        vertical-align: top;\n",
       "    }\n",
       "\n",
       "    .dataframe thead th {\n",
       "        text-align: right;\n",
       "    }\n",
       "</style>\n",
       "<table border=\"1\" class=\"dataframe\">\n",
       "  <thead>\n",
       "    <tr style=\"text-align: right;\">\n",
       "      <th></th>\n",
       "      <th>Open_GLD</th>\n",
       "      <th>High_GLD</th>\n",
       "      <th>Low_GLD</th>\n",
       "      <th>Close_GLD</th>\n",
       "      <th>Adj Close_GLD</th>\n",
       "      <th>Volume_GLD</th>\n",
       "      <th>Open_GDX</th>\n",
       "      <th>High_GDX</th>\n",
       "      <th>Low_GDX</th>\n",
       "      <th>Close_GDX</th>\n",
       "      <th>Adj Close_GDX</th>\n",
       "      <th>Volume_GDX</th>\n",
       "    </tr>\n",
       "    <tr>\n",
       "      <th>Date</th>\n",
       "      <th></th>\n",
       "      <th></th>\n",
       "      <th></th>\n",
       "      <th></th>\n",
       "      <th></th>\n",
       "      <th></th>\n",
       "      <th></th>\n",
       "      <th></th>\n",
       "      <th></th>\n",
       "      <th></th>\n",
       "      <th></th>\n",
       "      <th></th>\n",
       "    </tr>\n",
       "  </thead>\n",
       "  <tbody>\n",
       "    <tr>\n",
       "      <th>2018-01-02 00:00:00-05:00</th>\n",
       "      <td>6.37</td>\n",
       "      <td>6.44</td>\n",
       "      <td>6.37</td>\n",
       "      <td>6.42</td>\n",
       "      <td>6.42</td>\n",
       "      <td>532500</td>\n",
       "      <td>16.129999</td>\n",
       "      <td>16.230000</td>\n",
       "      <td>16.120001</td>\n",
       "      <td>16.209999</td>\n",
       "      <td>16.209999</td>\n",
       "      <td>8943200</td>\n",
       "    </tr>\n",
       "    <tr>\n",
       "      <th>2018-01-03 00:00:00-05:00</th>\n",
       "      <td>6.41</td>\n",
       "      <td>6.44</td>\n",
       "      <td>6.37</td>\n",
       "      <td>6.42</td>\n",
       "      <td>6.42</td>\n",
       "      <td>444800</td>\n",
       "      <td>16.190001</td>\n",
       "      <td>16.260000</td>\n",
       "      <td>16.090000</td>\n",
       "      <td>16.170000</td>\n",
       "      <td>16.170000</td>\n",
       "      <td>9149500</td>\n",
       "    </tr>\n",
       "    <tr>\n",
       "      <th>2018-01-04 00:00:00-05:00</th>\n",
       "      <td>6.42</td>\n",
       "      <td>6.45</td>\n",
       "      <td>6.41</td>\n",
       "      <td>6.43</td>\n",
       "      <td>6.43</td>\n",
       "      <td>358600</td>\n",
       "      <td>16.209999</td>\n",
       "      <td>16.299999</td>\n",
       "      <td>16.190001</td>\n",
       "      <td>16.230000</td>\n",
       "      <td>16.230000</td>\n",
       "      <td>7466300</td>\n",
       "    </tr>\n",
       "    <tr>\n",
       "      <th>2018-01-05 00:00:00-05:00</th>\n",
       "      <td>6.42</td>\n",
       "      <td>6.46</td>\n",
       "      <td>6.40</td>\n",
       "      <td>6.44</td>\n",
       "      <td>6.44</td>\n",
       "      <td>330800</td>\n",
       "      <td>16.180000</td>\n",
       "      <td>16.290001</td>\n",
       "      <td>16.160000</td>\n",
       "      <td>16.219999</td>\n",
       "      <td>16.219999</td>\n",
       "      <td>5651500</td>\n",
       "    </tr>\n",
       "    <tr>\n",
       "      <th>2018-01-08 00:00:00-05:00</th>\n",
       "      <td>6.40</td>\n",
       "      <td>6.42</td>\n",
       "      <td>6.36</td>\n",
       "      <td>6.39</td>\n",
       "      <td>6.39</td>\n",
       "      <td>514000</td>\n",
       "      <td>16.170000</td>\n",
       "      <td>16.190001</td>\n",
       "      <td>16.070000</td>\n",
       "      <td>16.150000</td>\n",
       "      <td>16.150000</td>\n",
       "      <td>6707000</td>\n",
       "    </tr>\n",
       "  </tbody>\n",
       "</table>\n",
       "</div>"
      ],
      "text/plain": [
       "                           Open_GLD  High_GLD  Low_GLD  Close_GLD  \\\n",
       "Date                                                                \n",
       "2018-01-02 00:00:00-05:00      6.37      6.44     6.37       6.42   \n",
       "2018-01-03 00:00:00-05:00      6.41      6.44     6.37       6.42   \n",
       "2018-01-04 00:00:00-05:00      6.42      6.45     6.41       6.43   \n",
       "2018-01-05 00:00:00-05:00      6.42      6.46     6.40       6.44   \n",
       "2018-01-08 00:00:00-05:00      6.40      6.42     6.36       6.39   \n",
       "\n",
       "                           Adj Close_GLD  Volume_GLD   Open_GDX   High_GDX  \\\n",
       "Date                                                                         \n",
       "2018-01-02 00:00:00-05:00           6.42      532500  16.129999  16.230000   \n",
       "2018-01-03 00:00:00-05:00           6.42      444800  16.190001  16.260000   \n",
       "2018-01-04 00:00:00-05:00           6.43      358600  16.209999  16.299999   \n",
       "2018-01-05 00:00:00-05:00           6.44      330800  16.180000  16.290001   \n",
       "2018-01-08 00:00:00-05:00           6.39      514000  16.170000  16.190001   \n",
       "\n",
       "                             Low_GDX  Close_GDX  Adj Close_GDX  Volume_GDX  \n",
       "Date                                                                        \n",
       "2018-01-02 00:00:00-05:00  16.120001  16.209999      16.209999     8943200  \n",
       "2018-01-03 00:00:00-05:00  16.090000  16.170000      16.170000     9149500  \n",
       "2018-01-04 00:00:00-05:00  16.190001  16.230000      16.230000     7466300  \n",
       "2018-01-05 00:00:00-05:00  16.160000  16.219999      16.219999     5651500  \n",
       "2018-01-08 00:00:00-05:00  16.070000  16.150000      16.150000     6707000  "
      ]
     },
     "execution_count": 22,
     "metadata": {},
     "output_type": "execute_result"
    }
   ],
   "source": [
    "df.reset_index(inplace=True)\n",
    "df.set_index('Date', inplace=True)\n",
    "df.sort_index(inplace=True)\n",
    "df.head()"
   ]
  },
  {
   "cell_type": "code",
   "execution_count": 23,
   "metadata": {},
   "outputs": [
    {
     "name": "stdout",
     "output_type": "stream",
     "text": [
      "Number of days in dataset: 1276\n"
     ]
    }
   ],
   "source": [
    "print(f'Number of days in dataset: {len(df)}')"
   ]
  },
  {
   "cell_type": "code",
   "execution_count": 24,
   "metadata": {},
   "outputs": [],
   "source": [
    "trainset = np.arange(0, 251)\n",
    "df = df.iloc[trainset, :]  # use only first year of data for training"
   ]
  },
  {
   "attachments": {},
   "cell_type": "markdown",
   "metadata": {},
   "source": [
    "Using the Engle-Granger test for cointegration testing"
   ]
  },
  {
   "cell_type": "code",
   "execution_count": 25,
   "metadata": {},
   "outputs": [
    {
     "name": "stdout",
     "output_type": "stream",
     "text": [
      "cointegration test statistic: -3.4123079082674335\n",
      "p-value: 0.04100171439037273\n",
      "critical values: [-3.94078403 -3.36067957 -3.06145832]\n"
     ]
    }
   ],
   "source": [
    "# coint_t: Cointegration test statistic (t-statistic) for the null hypothesis that the two series are not cointegrated.\n",
    "# pvalue: MacKinnon's approximate p-value\n",
    "# crit_value: Critical values for the test statistic at the 1 %, 5 %, and 10 % levels.\n",
    "coint_t, pvalue, crit_value = coint(\n",
    "    df['Adj Close_GLD'], df['Adj Close_GDX']\n",
    "    )\n",
    "print(f'cointegration test statistic: {coint_t}')\n",
    "print(f'p-value: {pvalue}')\n",
    "print(f'critical values: {crit_value}')"
   ]
  },
  {
   "attachments": {},
   "cell_type": "markdown",
   "metadata": {},
   "source": [
    "Since the absolute value of the t-stat (2.4) is less than the absolute value of the critical value @ 90%, the two series are not cointegrated."
   ]
  },
  {
   "cell_type": "code",
   "execution_count": 26,
   "metadata": {},
   "outputs": [
    {
     "name": "stdout",
     "output_type": "stream",
     "text": [
      "hedge ratio: 0.3885958096528814\n"
     ]
    }
   ],
   "source": [
    "# Determine the hedge ratio\n",
    "\"\"\"\n",
    "Using statsmodels OLS to find the hedge ratio.\n",
    "Where the slope of the regression line (line that minimizes the sum of the squared residuals) from OLS is the hedge ratio.\n",
    "\"\"\"\n",
    "model = OLS(df['Adj Close_GLD'], df['Adj Close_GDX'])\n",
    "results = model.fit()\n",
    "hedge_ratio = results.params[0]\n",
    "print(f'hedge ratio: {hedge_ratio}')"
   ]
  },
  {
   "cell_type": "code",
   "execution_count": 18,
   "metadata": {},
   "outputs": [
    {
     "data": {
      "image/png": "[encoded data removed]",
      "text/plain": [
       "<Figure size 640x480 with 1 Axes>"
      ]
     },
     "metadata": {},
     "output_type": "display_data"
    }
   ],
   "source": [
    "# spread = GLD - hedge_ratio * GDX\n",
    "spread = df['Adj Close_GLD'] - hedge_ratio * df['Adj Close_GDX']\n",
    "plt.plot(spread)\n",
    "plt.title('Spread')\n",
    "plt.axhline(0, color='red')\n",
    "plt.show()"
   ]
  },
  {
   "cell_type": "code",
   "execution_count": null,
   "metadata": {},
   "outputs": [],
   "source": []
  }
 ],
 "metadata": {
  "kernelspec": {
   "display_name": "Python 3",
   "language": "python",
   "name": "python3"
  },
  "language_info": {
   "codemirror_mode": {
    "name": "ipython",
    "version": 3
   },
   "file_extension": ".py",
   "mimetype": "text/x-python",
   "name": "python",
   "nbconvert_exporter": "python",
   "pygments_lexer": "ipython3",
   "version": "3.9.12 (main, Apr  5 2022, 01:53:17) \n[Clang 12.0.0 ]"
  },
  "orig_nbformat": 4,
  "vscode": {
   "interpreter": {
    "hash": "6878569262a6e222d2bf9767f8c76a5e9f33c66f4b81d8aa952494e1f3a0e918"
   }
  }
 },
 "nbformat": 4,
 "nbformat_minor": 2
}
