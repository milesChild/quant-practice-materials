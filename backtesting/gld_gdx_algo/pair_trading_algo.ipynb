{
 "cells": [
  {
   "attachments": {},
   "cell_type": "markdown",
   "metadata": {},
   "source": [
    "# Simple pair trading algorithm between GLD and GDX\n",
    "\n",
    "GLD is an ETF designed to reflect the spot price of gold.\n",
    "GDX is a basket of gold mining stocks.\n",
    "\n",
    "## Strategy Description:\n",
    "\n",
    "h(n): price movements of GLD and GDX should be significantly similar.\n",
    "\n",
    "Pair trade GLD and GDX based on the modeled hedge ratio between the two. We will manually define the entry and exit thresholds for this strategy and optimize them on a testing set."
   ]
  },
  {
   "cell_type": "code",
   "execution_count": 18,
   "metadata": {},
   "outputs": [],
   "source": [
    "# imports\n",
    "import numpy as np\n",
    "import pandas as pd\n",
    "import matplotlib.pyplot as plt\n",
    "import statsmodels.api as sm\n",
    "import yfinance as yf"
   ]
  },
  {
   "cell_type": "code",
   "execution_count": 19,
   "metadata": {},
   "outputs": [
    {
     "name": "stdout",
     "output_type": "stream",
     "text": [
      "[*********************100%***********************]  1 of 1 completed\n",
      "[*********************100%***********************]  1 of 1 completed\n"
     ]
    }
   ],
   "source": [
    "gld2 = yf.download('GLD', start='2021-06-26', end='2022-12-23')\n",
    "gld2.to_excel('gld2.xlsx')\n",
    "gdx2 = yf.download('GDX', start='2021-06-26', end='2022-12-23')\n",
    "gdx2.to_excel('gdx2.xlsx')"
   ]
  },
  {
   "cell_type": "code",
   "execution_count": 21,
   "metadata": {},
   "outputs": [
    {
     "data": {
      "text/html": [
       "<div>\n",
       "<style scoped>\n",
       "    .dataframe tbody tr th:only-of-type {\n",
       "        vertical-align: middle;\n",
       "    }\n",
       "\n",
       "    .dataframe tbody tr th {\n",
       "        vertical-align: top;\n",
       "    }\n",
       "\n",
       "    .dataframe thead th {\n",
       "        text-align: right;\n",
       "    }\n",
       "</style>\n",
       "<table border=\"1\" class=\"dataframe\">\n",
       "  <thead>\n",
       "    <tr style=\"text-align: right;\">\n",
       "      <th></th>\n",
       "      <th>Open_GLD</th>\n",
       "      <th>High_GLD</th>\n",
       "      <th>Low_GLD</th>\n",
       "      <th>Close_GLD</th>\n",
       "      <th>Adj Close_GLD</th>\n",
       "      <th>Volume_GLD</th>\n",
       "      <th>Open_GDX</th>\n",
       "      <th>High_GDX</th>\n",
       "      <th>Low_GDX</th>\n",
       "      <th>Close_GDX</th>\n",
       "      <th>Adj Close_GDX</th>\n",
       "      <th>Volume_GDX</th>\n",
       "    </tr>\n",
       "    <tr>\n",
       "      <th>Date</th>\n",
       "      <th></th>\n",
       "      <th></th>\n",
       "      <th></th>\n",
       "      <th></th>\n",
       "      <th></th>\n",
       "      <th></th>\n",
       "      <th></th>\n",
       "      <th></th>\n",
       "      <th></th>\n",
       "      <th></th>\n",
       "      <th></th>\n",
       "      <th></th>\n",
       "    </tr>\n",
       "  </thead>\n",
       "  <tbody>\n",
       "    <tr>\n",
       "      <th>2021-06-28</th>\n",
       "      <td>166.679993</td>\n",
       "      <td>166.910004</td>\n",
       "      <td>166.360001</td>\n",
       "      <td>166.580002</td>\n",
       "      <td>166.580002</td>\n",
       "      <td>6508900</td>\n",
       "      <td>34.320000</td>\n",
       "      <td>34.439999</td>\n",
       "      <td>33.720001</td>\n",
       "      <td>33.980000</td>\n",
       "      <td>32.840199</td>\n",
       "      <td>19354800</td>\n",
       "    </tr>\n",
       "    <tr>\n",
       "      <th>2021-06-29</th>\n",
       "      <td>164.339996</td>\n",
       "      <td>165.279999</td>\n",
       "      <td>164.009995</td>\n",
       "      <td>164.830002</td>\n",
       "      <td>164.830002</td>\n",
       "      <td>7451400</td>\n",
       "      <td>33.389999</td>\n",
       "      <td>33.970001</td>\n",
       "      <td>33.299999</td>\n",
       "      <td>33.639999</td>\n",
       "      <td>32.511604</td>\n",
       "      <td>15484500</td>\n",
       "    </tr>\n",
       "    <tr>\n",
       "      <th>2021-06-30</th>\n",
       "      <td>164.570007</td>\n",
       "      <td>166.100006</td>\n",
       "      <td>164.289993</td>\n",
       "      <td>165.630005</td>\n",
       "      <td>165.630005</td>\n",
       "      <td>7955800</td>\n",
       "      <td>33.639999</td>\n",
       "      <td>34.209999</td>\n",
       "      <td>33.500000</td>\n",
       "      <td>33.980000</td>\n",
       "      <td>32.840199</td>\n",
       "      <td>15159300</td>\n",
       "    </tr>\n",
       "    <tr>\n",
       "      <th>2021-07-01</th>\n",
       "      <td>166.649994</td>\n",
       "      <td>166.880005</td>\n",
       "      <td>165.500000</td>\n",
       "      <td>166.199997</td>\n",
       "      <td>166.199997</td>\n",
       "      <td>7430500</td>\n",
       "      <td>34.470001</td>\n",
       "      <td>34.520000</td>\n",
       "      <td>33.759998</td>\n",
       "      <td>33.959999</td>\n",
       "      <td>32.820866</td>\n",
       "      <td>12172200</td>\n",
       "    </tr>\n",
       "    <tr>\n",
       "      <th>2021-07-02</th>\n",
       "      <td>167.350006</td>\n",
       "      <td>167.720001</td>\n",
       "      <td>166.399994</td>\n",
       "      <td>167.289993</td>\n",
       "      <td>167.289993</td>\n",
       "      <td>7873600</td>\n",
       "      <td>34.389999</td>\n",
       "      <td>34.590000</td>\n",
       "      <td>34.049999</td>\n",
       "      <td>34.419998</td>\n",
       "      <td>33.265438</td>\n",
       "      <td>14496600</td>\n",
       "    </tr>\n",
       "  </tbody>\n",
       "</table>\n",
       "</div>"
      ],
      "text/plain": [
       "              Open_GLD    High_GLD     Low_GLD   Close_GLD  Adj Close_GLD  \\\n",
       "Date                                                                        \n",
       "2021-06-28  166.679993  166.910004  166.360001  166.580002     166.580002   \n",
       "2021-06-29  164.339996  165.279999  164.009995  164.830002     164.830002   \n",
       "2021-06-30  164.570007  166.100006  164.289993  165.630005     165.630005   \n",
       "2021-07-01  166.649994  166.880005  165.500000  166.199997     166.199997   \n",
       "2021-07-02  167.350006  167.720001  166.399994  167.289993     167.289993   \n",
       "\n",
       "            Volume_GLD   Open_GDX   High_GDX    Low_GDX  Close_GDX  \\\n",
       "Date                                                                 \n",
       "2021-06-28     6508900  34.320000  34.439999  33.720001  33.980000   \n",
       "2021-06-29     7451400  33.389999  33.970001  33.299999  33.639999   \n",
       "2021-06-30     7955800  33.639999  34.209999  33.500000  33.980000   \n",
       "2021-07-01     7430500  34.470001  34.520000  33.759998  33.959999   \n",
       "2021-07-02     7873600  34.389999  34.590000  34.049999  34.419998   \n",
       "\n",
       "            Adj Close_GDX  Volume_GDX  \n",
       "Date                                   \n",
       "2021-06-28      32.840199    19354800  \n",
       "2021-06-29      32.511604    15484500  \n",
       "2021-06-30      32.840199    15159300  \n",
       "2021-07-01      32.820866    12172200  \n",
       "2021-07-02      33.265438    14496600  "
      ]
     },
     "execution_count": 21,
     "metadata": {},
     "output_type": "execute_result"
    }
   ],
   "source": [
    "# Using the local data, create a merged df of stock data.\n",
    "gld_df = pd.read_excel('gld2.xlsx')\n",
    "gdx_df = pd.read_excel('gdx2.xlsx')\n",
    "df = pd.merge(gld_df, gdx_df, on='Date', suffixes=('_GLD', '_GDX'))\n",
    "df.set_index('Date', inplace=True)\n",
    "df.sort_index(inplace=True)\n",
    "df.head()"
   ]
  },
  {
   "cell_type": "code",
   "execution_count": 22,
   "metadata": {},
   "outputs": [
    {
     "name": "stdout",
     "output_type": "stream",
     "text": [
      "Total Days in Set: 377\n"
     ]
    }
   ],
   "source": [
    "print(f'Total Days in Set: {len(df)}')"
   ]
  },
  {
   "cell_type": "code",
   "execution_count": 23,
   "metadata": {},
   "outputs": [],
   "source": [
    "# Create a train and test set\n",
    "train = np.arange(0, 252)\n",
    "test = np.arange(train.shape[0], df.shape[0])"
   ]
  },
  {
   "attachments": {},
   "cell_type": "markdown",
   "metadata": {},
   "source": [
    "Use the training set to determine the hedge ratio."
   ]
  },
  {
   "cell_type": "code",
   "execution_count": 24,
   "metadata": {},
   "outputs": [
    {
     "name": "stdout",
     "output_type": "stream",
     "text": [
      "Hedge Ratio: 5.2781\n"
     ]
    }
   ],
   "source": [
    "# 1. Create a model using OLS (Ordinary Least Squares) regression.\n",
    "# 2. Fit the model to the training data.\n",
    "# 3. Extract the hedge ratio from the model.\n",
    "model = sm.OLS(df['Adj Close_GLD'].iloc[train], df['Adj Close_GDX'].iloc[train])\n",
    "results = model.fit()\n",
    "hedgeratio = results.params[0]\n",
    "print(f'Hedge Ratio: {hedgeratio:.4f}')"
   ]
  },
  {
   "cell_type": "code",
   "execution_count": 25,
   "metadata": {},
   "outputs": [
    {
     "data": {
      "text/plain": [
       "[<matplotlib.lines.Line2D at 0x7fcce96996a0>]"
      ]
     },
     "execution_count": 25,
     "metadata": {},
     "output_type": "execute_result"
    },
    {
     "data": {
      "image/png": "[encoded data removed]",
      "text/plain": [
       "<Figure size 432x288 with 1 Axes>"
      ]
     },
     "metadata": {
      "needs_background": "light"
     },
     "output_type": "display_data"
    }
   ],
   "source": [
    "# spread = GLD - (hedgeratio * GDX)\n",
    "spread = df.loc[:, 'Adj Close_GLD'] - hedgeratio * df.loc[:, 'Adj Close_GDX']\n",
    "plt.plot(spread.iloc[train])\n",
    "plt.plot(spread.iloc[test])"
   ]
  },
  {
   "cell_type": "code",
   "execution_count": 26,
   "metadata": {},
   "outputs": [
    {
     "name": "stdout",
     "output_type": "stream",
     "text": [
      "Spread Mean: 0.8057\n"
     ]
    }
   ],
   "source": [
    "spreadmean = np.mean(spread.iloc[train])\n",
    "print(f'Spread Mean: {spreadmean:.4f}')"
   ]
  },
  {
   "cell_type": "code",
   "execution_count": 27,
   "metadata": {},
   "outputs": [
    {
     "name": "stdout",
     "output_type": "stream",
     "text": [
      "Spread Std: 9.8752\n"
     ]
    }
   ],
   "source": [
    "spreadstd = np.std(spread.iloc[train])\n",
    "print(f'Spread Std: {spreadstd:.4f}')"
   ]
  },
  {
   "cell_type": "code",
   "execution_count": 28,
   "metadata": {},
   "outputs": [
    {
     "data": {
      "text/html": [
       "<div>\n",
       "<style scoped>\n",
       "    .dataframe tbody tr th:only-of-type {\n",
       "        vertical-align: middle;\n",
       "    }\n",
       "\n",
       "    .dataframe tbody tr th {\n",
       "        vertical-align: top;\n",
       "    }\n",
       "\n",
       "    .dataframe thead th {\n",
       "        text-align: right;\n",
       "    }\n",
       "</style>\n",
       "<table border=\"1\" class=\"dataframe\">\n",
       "  <thead>\n",
       "    <tr style=\"text-align: right;\">\n",
       "      <th></th>\n",
       "      <th>Open_GLD</th>\n",
       "      <th>High_GLD</th>\n",
       "      <th>Low_GLD</th>\n",
       "      <th>Close_GLD</th>\n",
       "      <th>Adj Close_GLD</th>\n",
       "      <th>Volume_GLD</th>\n",
       "      <th>Open_GDX</th>\n",
       "      <th>High_GDX</th>\n",
       "      <th>Low_GDX</th>\n",
       "      <th>Close_GDX</th>\n",
       "      <th>Adj Close_GDX</th>\n",
       "      <th>Volume_GDX</th>\n",
       "      <th>zscore</th>\n",
       "      <th>positions_GLD_Long</th>\n",
       "      <th>positions_GLX_Long</th>\n",
       "      <th>positions_GLD_Short</th>\n",
       "      <th>positions_GLX_Short</th>\n",
       "      <th>positions_GDX_Short</th>\n",
       "      <th>positions_GDX_Long</th>\n",
       "    </tr>\n",
       "    <tr>\n",
       "      <th>Date</th>\n",
       "      <th></th>\n",
       "      <th></th>\n",
       "      <th></th>\n",
       "      <th></th>\n",
       "      <th></th>\n",
       "      <th></th>\n",
       "      <th></th>\n",
       "      <th></th>\n",
       "      <th></th>\n",
       "      <th></th>\n",
       "      <th></th>\n",
       "      <th></th>\n",
       "      <th></th>\n",
       "      <th></th>\n",
       "      <th></th>\n",
       "      <th></th>\n",
       "      <th></th>\n",
       "      <th></th>\n",
       "      <th></th>\n",
       "    </tr>\n",
       "  </thead>\n",
       "  <tbody>\n",
       "    <tr>\n",
       "      <th>2021-06-28</th>\n",
       "      <td>166.679993</td>\n",
       "      <td>166.910004</td>\n",
       "      <td>166.360001</td>\n",
       "      <td>166.580002</td>\n",
       "      <td>166.580002</td>\n",
       "      <td>6508900</td>\n",
       "      <td>34.320000</td>\n",
       "      <td>34.439999</td>\n",
       "      <td>33.720001</td>\n",
       "      <td>33.980000</td>\n",
       "      <td>32.840199</td>\n",
       "      <td>19354800</td>\n",
       "      <td>-0.765655</td>\n",
       "      <td>0</td>\n",
       "      <td>0</td>\n",
       "      <td>0</td>\n",
       "      <td>0</td>\n",
       "      <td>0.0</td>\n",
       "      <td>0.0</td>\n",
       "    </tr>\n",
       "    <tr>\n",
       "      <th>2021-06-29</th>\n",
       "      <td>164.339996</td>\n",
       "      <td>165.279999</td>\n",
       "      <td>164.009995</td>\n",
       "      <td>164.830002</td>\n",
       "      <td>164.830002</td>\n",
       "      <td>7451400</td>\n",
       "      <td>33.389999</td>\n",
       "      <td>33.970001</td>\n",
       "      <td>33.299999</td>\n",
       "      <td>33.639999</td>\n",
       "      <td>32.511604</td>\n",
       "      <td>15484500</td>\n",
       "      <td>-0.767238</td>\n",
       "      <td>0</td>\n",
       "      <td>0</td>\n",
       "      <td>0</td>\n",
       "      <td>0</td>\n",
       "      <td>0.0</td>\n",
       "      <td>0.0</td>\n",
       "    </tr>\n",
       "    <tr>\n",
       "      <th>2021-06-30</th>\n",
       "      <td>164.570007</td>\n",
       "      <td>166.100006</td>\n",
       "      <td>164.289993</td>\n",
       "      <td>165.630005</td>\n",
       "      <td>165.630005</td>\n",
       "      <td>7955800</td>\n",
       "      <td>33.639999</td>\n",
       "      <td>34.209999</td>\n",
       "      <td>33.500000</td>\n",
       "      <td>33.980000</td>\n",
       "      <td>32.840199</td>\n",
       "      <td>15159300</td>\n",
       "      <td>-0.861856</td>\n",
       "      <td>0</td>\n",
       "      <td>0</td>\n",
       "      <td>0</td>\n",
       "      <td>0</td>\n",
       "      <td>0.0</td>\n",
       "      <td>0.0</td>\n",
       "    </tr>\n",
       "    <tr>\n",
       "      <th>2021-07-01</th>\n",
       "      <td>166.649994</td>\n",
       "      <td>166.880005</td>\n",
       "      <td>165.500000</td>\n",
       "      <td>166.199997</td>\n",
       "      <td>166.199997</td>\n",
       "      <td>7430500</td>\n",
       "      <td>34.470001</td>\n",
       "      <td>34.520000</td>\n",
       "      <td>33.759998</td>\n",
       "      <td>33.959999</td>\n",
       "      <td>32.820866</td>\n",
       "      <td>12172200</td>\n",
       "      <td>-0.793803</td>\n",
       "      <td>0</td>\n",
       "      <td>0</td>\n",
       "      <td>0</td>\n",
       "      <td>0</td>\n",
       "      <td>0.0</td>\n",
       "      <td>0.0</td>\n",
       "    </tr>\n",
       "    <tr>\n",
       "      <th>2021-07-02</th>\n",
       "      <td>167.350006</td>\n",
       "      <td>167.720001</td>\n",
       "      <td>166.399994</td>\n",
       "      <td>167.289993</td>\n",
       "      <td>167.289993</td>\n",
       "      <td>7873600</td>\n",
       "      <td>34.389999</td>\n",
       "      <td>34.590000</td>\n",
       "      <td>34.049999</td>\n",
       "      <td>34.419998</td>\n",
       "      <td>33.265438</td>\n",
       "      <td>14496600</td>\n",
       "      <td>-0.921043</td>\n",
       "      <td>0</td>\n",
       "      <td>0</td>\n",
       "      <td>0</td>\n",
       "      <td>0</td>\n",
       "      <td>0.0</td>\n",
       "      <td>0.0</td>\n",
       "    </tr>\n",
       "  </tbody>\n",
       "</table>\n",
       "</div>"
      ],
      "text/plain": [
       "              Open_GLD    High_GLD     Low_GLD   Close_GLD  Adj Close_GLD  \\\n",
       "Date                                                                        \n",
       "2021-06-28  166.679993  166.910004  166.360001  166.580002     166.580002   \n",
       "2021-06-29  164.339996  165.279999  164.009995  164.830002     164.830002   \n",
       "2021-06-30  164.570007  166.100006  164.289993  165.630005     165.630005   \n",
       "2021-07-01  166.649994  166.880005  165.500000  166.199997     166.199997   \n",
       "2021-07-02  167.350006  167.720001  166.399994  167.289993     167.289993   \n",
       "\n",
       "            Volume_GLD   Open_GDX   High_GDX    Low_GDX  Close_GDX  \\\n",
       "Date                                                                 \n",
       "2021-06-28     6508900  34.320000  34.439999  33.720001  33.980000   \n",
       "2021-06-29     7451400  33.389999  33.970001  33.299999  33.639999   \n",
       "2021-06-30     7955800  33.639999  34.209999  33.500000  33.980000   \n",
       "2021-07-01     7430500  34.470001  34.520000  33.759998  33.959999   \n",
       "2021-07-02     7873600  34.389999  34.590000  34.049999  34.419998   \n",
       "\n",
       "            Adj Close_GDX  Volume_GDX    zscore  positions_GLD_Long  \\\n",
       "Date                                                                  \n",
       "2021-06-28      32.840199    19354800 -0.765655                   0   \n",
       "2021-06-29      32.511604    15484500 -0.767238                   0   \n",
       "2021-06-30      32.840199    15159300 -0.861856                   0   \n",
       "2021-07-01      32.820866    12172200 -0.793803                   0   \n",
       "2021-07-02      33.265438    14496600 -0.921043                   0   \n",
       "\n",
       "            positions_GLX_Long  positions_GLD_Short  positions_GLX_Short  \\\n",
       "Date                                                                       \n",
       "2021-06-28                   0                    0                    0   \n",
       "2021-06-29                   0                    0                    0   \n",
       "2021-06-30                   0                    0                    0   \n",
       "2021-07-01                   0                    0                    0   \n",
       "2021-07-02                   0                    0                    0   \n",
       "\n",
       "            positions_GDX_Short  positions_GDX_Long  \n",
       "Date                                                 \n",
       "2021-06-28                  0.0                 0.0  \n",
       "2021-06-29                  0.0                 0.0  \n",
       "2021-06-30                  0.0                 0.0  \n",
       "2021-07-01                  0.0                 0.0  \n",
       "2021-07-02                  0.0                 0.0  "
      ]
     },
     "execution_count": 28,
     "metadata": {},
     "output_type": "execute_result"
    }
   ],
   "source": [
    "df['zscore'] = (spread - spreadmean) / spreadstd\n",
    "df['positions_GLD_Long'] = 0\n",
    "df['positions_GLX_Long'] = 0\n",
    "df['positions_GLD_Short'] = 0\n",
    "df['positions_GLX_Short'] = 0\n",
    "\n",
    "# Short spread\n",
    "df.loc[df.zscore >= 2, ('positions_GLD_Short', 'positions_GDX_Short')] = [-1, 1]\n",
    "# Exit Short spread\n",
    "df.loc[df.zscore <= 1, ('positions_GLD_Short', 'positions_GDX_Short')] = 0\n",
    "# Long spread\n",
    "df.loc[df.zscore <= -2, ('positions_GLD_Long', 'positions_GDX_Long')] = [1, -1]\n",
    "# Exit Long spread\n",
    "df.loc[df.zscore >= -1, ('positions_GLD_Long', 'positions_GDX_Long')] = 0\n",
    "df.head()"
   ]
  },
  {
   "cell_type": "code",
   "execution_count": 29,
   "metadata": {},
   "outputs": [],
   "source": [
    "# Ensures that existing positions are carried forward unless there is an exit signal\n",
    "df.fillna(method='ffill', inplace=True)"
   ]
  },
  {
   "cell_type": "code",
   "execution_count": 30,
   "metadata": {},
   "outputs": [
    {
     "data": {
      "text/html": [
       "<div>\n",
       "<style scoped>\n",
       "    .dataframe tbody tr th:only-of-type {\n",
       "        vertical-align: middle;\n",
       "    }\n",
       "\n",
       "    .dataframe tbody tr th {\n",
       "        vertical-align: top;\n",
       "    }\n",
       "\n",
       "    .dataframe thead th {\n",
       "        text-align: right;\n",
       "    }\n",
       "</style>\n",
       "<table border=\"1\" class=\"dataframe\">\n",
       "  <thead>\n",
       "    <tr style=\"text-align: right;\">\n",
       "      <th></th>\n",
       "      <th>GLD</th>\n",
       "      <th>GDX</th>\n",
       "    </tr>\n",
       "    <tr>\n",
       "      <th>Date</th>\n",
       "      <th></th>\n",
       "      <th></th>\n",
       "    </tr>\n",
       "  </thead>\n",
       "  <tbody>\n",
       "    <tr>\n",
       "      <th>2021-06-28</th>\n",
       "      <td>0.0</td>\n",
       "      <td>0.0</td>\n",
       "    </tr>\n",
       "    <tr>\n",
       "      <th>2021-06-29</th>\n",
       "      <td>0.0</td>\n",
       "      <td>0.0</td>\n",
       "    </tr>\n",
       "    <tr>\n",
       "      <th>2021-06-30</th>\n",
       "      <td>0.0</td>\n",
       "      <td>0.0</td>\n",
       "    </tr>\n",
       "    <tr>\n",
       "      <th>2021-07-01</th>\n",
       "      <td>0.0</td>\n",
       "      <td>0.0</td>\n",
       "    </tr>\n",
       "    <tr>\n",
       "      <th>2021-07-02</th>\n",
       "      <td>0.0</td>\n",
       "      <td>0.0</td>\n",
       "    </tr>\n",
       "    <tr>\n",
       "      <th>2021-07-06</th>\n",
       "      <td>0.0</td>\n",
       "      <td>0.0</td>\n",
       "    </tr>\n",
       "    <tr>\n",
       "      <th>2021-07-07</th>\n",
       "      <td>0.0</td>\n",
       "      <td>0.0</td>\n",
       "    </tr>\n",
       "    <tr>\n",
       "      <th>2021-07-08</th>\n",
       "      <td>0.0</td>\n",
       "      <td>0.0</td>\n",
       "    </tr>\n",
       "    <tr>\n",
       "      <th>2021-07-09</th>\n",
       "      <td>0.0</td>\n",
       "      <td>0.0</td>\n",
       "    </tr>\n",
       "    <tr>\n",
       "      <th>2021-07-12</th>\n",
       "      <td>0.0</td>\n",
       "      <td>0.0</td>\n",
       "    </tr>\n",
       "    <tr>\n",
       "      <th>2021-07-13</th>\n",
       "      <td>0.0</td>\n",
       "      <td>0.0</td>\n",
       "    </tr>\n",
       "    <tr>\n",
       "      <th>2021-07-14</th>\n",
       "      <td>0.0</td>\n",
       "      <td>0.0</td>\n",
       "    </tr>\n",
       "    <tr>\n",
       "      <th>2021-07-15</th>\n",
       "      <td>0.0</td>\n",
       "      <td>0.0</td>\n",
       "    </tr>\n",
       "    <tr>\n",
       "      <th>2021-07-16</th>\n",
       "      <td>0.0</td>\n",
       "      <td>0.0</td>\n",
       "    </tr>\n",
       "    <tr>\n",
       "      <th>2021-07-19</th>\n",
       "      <td>0.0</td>\n",
       "      <td>0.0</td>\n",
       "    </tr>\n",
       "    <tr>\n",
       "      <th>2021-07-20</th>\n",
       "      <td>0.0</td>\n",
       "      <td>0.0</td>\n",
       "    </tr>\n",
       "    <tr>\n",
       "      <th>2021-07-21</th>\n",
       "      <td>0.0</td>\n",
       "      <td>0.0</td>\n",
       "    </tr>\n",
       "    <tr>\n",
       "      <th>2021-07-22</th>\n",
       "      <td>0.0</td>\n",
       "      <td>0.0</td>\n",
       "    </tr>\n",
       "    <tr>\n",
       "      <th>2021-07-23</th>\n",
       "      <td>0.0</td>\n",
       "      <td>0.0</td>\n",
       "    </tr>\n",
       "    <tr>\n",
       "      <th>2021-07-26</th>\n",
       "      <td>0.0</td>\n",
       "      <td>0.0</td>\n",
       "    </tr>\n",
       "  </tbody>\n",
       "</table>\n",
       "</div>"
      ],
      "text/plain": [
       "            GLD  GDX\n",
       "Date                \n",
       "2021-06-28  0.0  0.0\n",
       "2021-06-29  0.0  0.0\n",
       "2021-06-30  0.0  0.0\n",
       "2021-07-01  0.0  0.0\n",
       "2021-07-02  0.0  0.0\n",
       "2021-07-06  0.0  0.0\n",
       "2021-07-07  0.0  0.0\n",
       "2021-07-08  0.0  0.0\n",
       "2021-07-09  0.0  0.0\n",
       "2021-07-12  0.0  0.0\n",
       "2021-07-13  0.0  0.0\n",
       "2021-07-14  0.0  0.0\n",
       "2021-07-15  0.0  0.0\n",
       "2021-07-16  0.0  0.0\n",
       "2021-07-19  0.0  0.0\n",
       "2021-07-20  0.0  0.0\n",
       "2021-07-21  0.0  0.0\n",
       "2021-07-22  0.0  0.0\n",
       "2021-07-23  0.0  0.0\n",
       "2021-07-26  0.0  0.0"
      ]
     },
     "execution_count": 30,
     "metadata": {},
     "output_type": "execute_result"
    }
   ],
   "source": [
    "positions_Long = df.loc[:, ['positions_GLD_Long', 'positions_GDX_Long']]\n",
    "positions_Short = df.loc[:, ['positions_GLD_Short', 'positions_GDX_Short']]\n",
    "positions = np.array(positions_Long) + np.array(positions_Short)\n",
    "positions = pd.DataFrame(positions, columns=['GLD', 'GDX'], index=df.index)\n",
    "positions.head(20)"
   ]
  },
  {
   "cell_type": "code",
   "execution_count": 31,
   "metadata": {},
   "outputs": [],
   "source": [
    "daily_returns = df.loc[:, ['Adj Close_GLD', 'Adj Close_GDX']].pct_change()\n",
    "pnl = (np.array(positions.shift()) * np.array(daily_returns)).sum(axis=1)"
   ]
  },
  {
   "cell_type": "code",
   "execution_count": 32,
   "metadata": {},
   "outputs": [
    {
     "name": "stdout",
     "output_type": "stream",
     "text": [
      "Sharpe Ratio (Train): 1.1616\n"
     ]
    }
   ],
   "source": [
    "sharpe_train = np.sqrt(252) * np.mean(pnl[train[1:]]) / np.std(pnl[train[1:]])\n",
    "print(f'Sharpe Ratio (Train): {sharpe_train:.4f}')"
   ]
  },
  {
   "cell_type": "code",
   "execution_count": 33,
   "metadata": {},
   "outputs": [
    {
     "name": "stdout",
     "output_type": "stream",
     "text": [
      "Sharpe Ratio (Test): 0.7795\n"
     ]
    }
   ],
   "source": [
    "sharpe_test = np.sqrt(252) * np.mean(pnl[test[1:]]) / np.std(pnl[test[1:]])\n",
    "print(f'Sharpe Ratio (Test): {sharpe_test:.4f}')"
   ]
  },
  {
   "attachments": {},
   "cell_type": "markdown",
   "metadata": {},
   "source": [
    "Plot the cumulative PNL sum of the strategy."
   ]
  },
  {
   "cell_type": "code",
   "execution_count": 34,
   "metadata": {},
   "outputs": [
    {
     "data": {
      "image/png": "[encoded data removed]",
      "text/plain": [
       "<Figure size 432x288 with 1 Axes>"
      ]
     },
     "metadata": {
      "needs_background": "light"
     },
     "output_type": "display_data"
    }
   ],
   "source": [
    "plt.plot(np.cumsum(pnl[test]))\n",
    "plt.title('Cumulative Returns')\n",
    "plt.show()"
   ]
  },
  {
   "cell_type": "code",
   "execution_count": null,
   "metadata": {},
   "outputs": [],
   "source": []
  }
 ],
 "metadata": {
  "kernelspec": {
   "display_name": "Python 3",
   "language": "python",
   "name": "python3"
  },
  "language_info": {
   "codemirror_mode": {
    "name": "ipython",
    "version": 3
   },
   "file_extension": ".py",
   "mimetype": "text/x-python",
   "name": "python",
   "nbconvert_exporter": "python",
   "pygments_lexer": "ipython3",
   "version": "3.9.13 | packaged by conda-forge | (main, May 27 2022, 17:00:52) \n[Clang 13.0.1 ]"
  },
  "orig_nbformat": 4,
  "vscode": {
   "interpreter": {
    "hash": "d2fecfbe8289bdffe4ecb5ebd28210732fbe18ad67d5e9cfc4b44aa35dbf2140"
   }
  }
 },
 "nbformat": 4,
 "nbformat_minor": 2
}
