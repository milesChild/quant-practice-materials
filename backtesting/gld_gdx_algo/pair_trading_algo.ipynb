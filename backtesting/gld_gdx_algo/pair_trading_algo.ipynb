{
 "cells": [
  {
   "attachments": {},
   "cell_type": "markdown",
   "metadata": {},
   "source": [
    "# Simple pair trading algorithm between GLD and GDX\n",
    "\n",
    "GLD is an ETF designed to reflect the spot price of gold.\n",
    "GDX is a basket of gold mining stocks.\n",
    "\n",
    "## Strategy Description:\n",
    "\n",
    "h(n): price movements of GLD and GDX should be significantly similar.\n",
    "\n",
    "Pair trade GLD and GDX based on the modeled hedge ratio between the two. We will manually define the entry and exit thresholds for this strategy and optimize them on a testing set."
   ]
  },
  {
   "cell_type": "code",
   "execution_count": 64,
   "metadata": {},
   "outputs": [],
   "source": [
    "# imports\n",
    "import numpy as np\n",
    "import pandas as pd\n",
    "import matplotlib.pyplot as plt\n",
    "import statsmodels.api as sm"
   ]
  },
  {
   "cell_type": "code",
   "execution_count": 65,
   "metadata": {},
   "outputs": [
    {
     "data": {
      "text/html": [
       "<div>\n",
       "<style scoped>\n",
       "    .dataframe tbody tr th:only-of-type {\n",
       "        vertical-align: middle;\n",
       "    }\n",
       "\n",
       "    .dataframe tbody tr th {\n",
       "        vertical-align: top;\n",
       "    }\n",
       "\n",
       "    .dataframe thead th {\n",
       "        text-align: right;\n",
       "    }\n",
       "</style>\n",
       "<table border=\"1\" class=\"dataframe\">\n",
       "  <thead>\n",
       "    <tr style=\"text-align: right;\">\n",
       "      <th></th>\n",
       "      <th>Open_GLD</th>\n",
       "      <th>High_GLD</th>\n",
       "      <th>Low_GLD</th>\n",
       "      <th>Close_GLD</th>\n",
       "      <th>Volume_GLD</th>\n",
       "      <th>Adj Close_GLD</th>\n",
       "      <th>Open_GDX</th>\n",
       "      <th>High_GDX</th>\n",
       "      <th>Low_GDX</th>\n",
       "      <th>Close_GDX</th>\n",
       "      <th>Volume_GDX</th>\n",
       "      <th>Adj Close_GDX</th>\n",
       "    </tr>\n",
       "    <tr>\n",
       "      <th>Date</th>\n",
       "      <th></th>\n",
       "      <th></th>\n",
       "      <th></th>\n",
       "      <th></th>\n",
       "      <th></th>\n",
       "      <th></th>\n",
       "      <th></th>\n",
       "      <th></th>\n",
       "      <th></th>\n",
       "      <th></th>\n",
       "      <th></th>\n",
       "      <th></th>\n",
       "    </tr>\n",
       "  </thead>\n",
       "  <tbody>\n",
       "    <tr>\n",
       "      <th>2006-05-23</th>\n",
       "      <td>65.99</td>\n",
       "      <td>67.16</td>\n",
       "      <td>65.91</td>\n",
       "      <td>66.38</td>\n",
       "      <td>10509700</td>\n",
       "      <td>66.38</td>\n",
       "      <td>37.75</td>\n",
       "      <td>39.22</td>\n",
       "      <td>37.75</td>\n",
       "      <td>37.96</td>\n",
       "      <td>620900</td>\n",
       "      <td>37.85</td>\n",
       "    </tr>\n",
       "    <tr>\n",
       "      <th>2006-05-24</th>\n",
       "      <td>64.83</td>\n",
       "      <td>65.16</td>\n",
       "      <td>63.22</td>\n",
       "      <td>64.06</td>\n",
       "      <td>11065600</td>\n",
       "      <td>64.06</td>\n",
       "      <td>37.13</td>\n",
       "      <td>37.57</td>\n",
       "      <td>35.87</td>\n",
       "      <td>36.52</td>\n",
       "      <td>638600</td>\n",
       "      <td>36.41</td>\n",
       "    </tr>\n",
       "    <tr>\n",
       "      <th>2006-05-25</th>\n",
       "      <td>64.12</td>\n",
       "      <td>64.76</td>\n",
       "      <td>63.76</td>\n",
       "      <td>64.70</td>\n",
       "      <td>6505400</td>\n",
       "      <td>64.70</td>\n",
       "      <td>37.18</td>\n",
       "      <td>38.32</td>\n",
       "      <td>36.98</td>\n",
       "      <td>38.32</td>\n",
       "      <td>367000</td>\n",
       "      <td>38.21</td>\n",
       "    </tr>\n",
       "    <tr>\n",
       "      <th>2006-05-26</th>\n",
       "      <td>65.01</td>\n",
       "      <td>65.10</td>\n",
       "      <td>63.75</td>\n",
       "      <td>65.10</td>\n",
       "      <td>5265900</td>\n",
       "      <td>65.10</td>\n",
       "      <td>38.74</td>\n",
       "      <td>38.74</td>\n",
       "      <td>37.77</td>\n",
       "      <td>38.55</td>\n",
       "      <td>269400</td>\n",
       "      <td>38.44</td>\n",
       "    </tr>\n",
       "    <tr>\n",
       "      <th>2006-05-30</th>\n",
       "      <td>65.20</td>\n",
       "      <td>66.24</td>\n",
       "      <td>65.00</td>\n",
       "      <td>65.11</td>\n",
       "      <td>8240200</td>\n",
       "      <td>65.11</td>\n",
       "      <td>39.50</td>\n",
       "      <td>39.72</td>\n",
       "      <td>38.11</td>\n",
       "      <td>38.17</td>\n",
       "      <td>559100</td>\n",
       "      <td>38.06</td>\n",
       "    </tr>\n",
       "  </tbody>\n",
       "</table>\n",
       "</div>"
      ],
      "text/plain": [
       "            Open_GLD  High_GLD  Low_GLD  Close_GLD  Volume_GLD  Adj Close_GLD  \\\n",
       "Date                                                                            \n",
       "2006-05-23     65.99     67.16    65.91      66.38    10509700          66.38   \n",
       "2006-05-24     64.83     65.16    63.22      64.06    11065600          64.06   \n",
       "2006-05-25     64.12     64.76    63.76      64.70     6505400          64.70   \n",
       "2006-05-26     65.01     65.10    63.75      65.10     5265900          65.10   \n",
       "2006-05-30     65.20     66.24    65.00      65.11     8240200          65.11   \n",
       "\n",
       "            Open_GDX  High_GDX  Low_GDX  Close_GDX  Volume_GDX  Adj Close_GDX  \n",
       "Date                                                                           \n",
       "2006-05-23     37.75     39.22    37.75      37.96      620900          37.85  \n",
       "2006-05-24     37.13     37.57    35.87      36.52      638600          36.41  \n",
       "2006-05-25     37.18     38.32    36.98      38.32      367000          38.21  \n",
       "2006-05-26     38.74     38.74    37.77      38.55      269400          38.44  \n",
       "2006-05-30     39.50     39.72    38.11      38.17      559100          38.06  "
      ]
     },
     "execution_count": 65,
     "metadata": {},
     "output_type": "execute_result"
    }
   ],
   "source": [
    "# Using the local data, create a merged df of stock data.\n",
    "gld_df = pd.read_excel('GLD.xls')\n",
    "gdx_df = pd.read_excel('GDX.xls')\n",
    "df = pd.merge(gld_df, gdx_df, on='Date', suffixes=('_GLD', '_GDX'))\n",
    "df.set_index('Date', inplace=True)\n",
    "df.sort_index(inplace=True)\n",
    "df.head()"
   ]
  },
  {
   "cell_type": "code",
   "execution_count": 66,
   "metadata": {},
   "outputs": [
    {
     "name": "stdout",
     "output_type": "stream",
     "text": [
      "Total Days in Set: 385\n"
     ]
    }
   ],
   "source": [
    "print(f'Total Days in Set: {len(df)}')"
   ]
  },
  {
   "cell_type": "code",
   "execution_count": 67,
   "metadata": {},
   "outputs": [],
   "source": [
    "train = np.arange(0, 252)\n",
    "test = np.arange(train.shape[0], df.shape[0])"
   ]
  },
  {
   "attachments": {},
   "cell_type": "markdown",
   "metadata": {},
   "source": [
    "Use the training set to determine the hedge ratio."
   ]
  },
  {
   "cell_type": "code",
   "execution_count": 68,
   "metadata": {},
   "outputs": [
    {
     "name": "stdout",
     "output_type": "stream",
     "text": [
      "Hedge Ratio: 1.6310\n"
     ]
    }
   ],
   "source": [
    "# 1. Create a model using OLS (Ordinary Least Squares) regression.\n",
    "# 2. Fit the model to the training data.\n",
    "# 3. Extract the hedge ratio from the model.\n",
    "model = sm.OLS(df['Adj Close_GLD'].iloc[train], df['Adj Close_GDX'].iloc[train])\n",
    "results = model.fit()\n",
    "hedgeratio = results.params[0]\n",
    "print(f'Hedge Ratio: {hedgeratio:.4f}')"
   ]
  },
  {
   "cell_type": "code",
   "execution_count": 69,
   "metadata": {},
   "outputs": [
    {
     "data": {
      "text/plain": [
       "[<matplotlib.lines.Line2D at 0x7f8d2966f790>]"
      ]
     },
     "execution_count": 69,
     "metadata": {},
     "output_type": "execute_result"
    },
    {
     "data": {
      "image/png": "[encoded data removed]",
      "text/plain": [
       "<Figure size 432x288 with 1 Axes>"
      ]
     },
     "metadata": {
      "needs_background": "light"
     },
     "output_type": "display_data"
    }
   ],
   "source": [
    "# spread = GLD - (hedgeratio * GDX)\n",
    "spread = df.loc[:, 'Adj Close_GLD'] - hedgeratio * df.loc[:, 'Adj Close_GDX']\n",
    "plt.plot(spread.iloc[train])\n",
    "plt.plot(spread.iloc[test])"
   ]
  },
  {
   "cell_type": "code",
   "execution_count": 70,
   "metadata": {},
   "outputs": [
    {
     "name": "stdout",
     "output_type": "stream",
     "text": [
      "Spread Mean: 0.0522\n"
     ]
    }
   ],
   "source": [
    "spreadmean = np.mean(spread.iloc[train])\n",
    "print(f'Spread Mean: {spreadmean:.4f}')"
   ]
  },
  {
   "cell_type": "code",
   "execution_count": 71,
   "metadata": {},
   "outputs": [
    {
     "name": "stdout",
     "output_type": "stream",
     "text": [
      "Spread Std: 1.9449\n"
     ]
    }
   ],
   "source": [
    "spreadstd = np.std(spread.iloc[train])\n",
    "print(f'Spread Std: {spreadstd:.4f}')"
   ]
  },
  {
   "cell_type": "code",
   "execution_count": 72,
   "metadata": {},
   "outputs": [
    {
     "data": {
      "text/html": [
       "<div>\n",
       "<style scoped>\n",
       "    .dataframe tbody tr th:only-of-type {\n",
       "        vertical-align: middle;\n",
       "    }\n",
       "\n",
       "    .dataframe tbody tr th {\n",
       "        vertical-align: top;\n",
       "    }\n",
       "\n",
       "    .dataframe thead th {\n",
       "        text-align: right;\n",
       "    }\n",
       "</style>\n",
       "<table border=\"1\" class=\"dataframe\">\n",
       "  <thead>\n",
       "    <tr style=\"text-align: right;\">\n",
       "      <th></th>\n",
       "      <th>Open_GLD</th>\n",
       "      <th>High_GLD</th>\n",
       "      <th>Low_GLD</th>\n",
       "      <th>Close_GLD</th>\n",
       "      <th>Volume_GLD</th>\n",
       "      <th>Adj Close_GLD</th>\n",
       "      <th>Open_GDX</th>\n",
       "      <th>High_GDX</th>\n",
       "      <th>Low_GDX</th>\n",
       "      <th>Close_GDX</th>\n",
       "      <th>Volume_GDX</th>\n",
       "      <th>Adj Close_GDX</th>\n",
       "      <th>zscore</th>\n",
       "      <th>positions_GLD_Long</th>\n",
       "      <th>positions_GLX_Long</th>\n",
       "      <th>positions_GLD_Short</th>\n",
       "      <th>positions_GLX_Short</th>\n",
       "      <th>positions_GDX_Short</th>\n",
       "      <th>positions_GDX_Long</th>\n",
       "    </tr>\n",
       "    <tr>\n",
       "      <th>Date</th>\n",
       "      <th></th>\n",
       "      <th></th>\n",
       "      <th></th>\n",
       "      <th></th>\n",
       "      <th></th>\n",
       "      <th></th>\n",
       "      <th></th>\n",
       "      <th></th>\n",
       "      <th></th>\n",
       "      <th></th>\n",
       "      <th></th>\n",
       "      <th></th>\n",
       "      <th></th>\n",
       "      <th></th>\n",
       "      <th></th>\n",
       "      <th></th>\n",
       "      <th></th>\n",
       "      <th></th>\n",
       "      <th></th>\n",
       "    </tr>\n",
       "  </thead>\n",
       "  <tbody>\n",
       "    <tr>\n",
       "      <th>2006-05-23</th>\n",
       "      <td>65.99</td>\n",
       "      <td>67.16</td>\n",
       "      <td>65.91</td>\n",
       "      <td>66.38</td>\n",
       "      <td>10509700</td>\n",
       "      <td>66.38</td>\n",
       "      <td>37.75</td>\n",
       "      <td>39.22</td>\n",
       "      <td>37.75</td>\n",
       "      <td>37.96</td>\n",
       "      <td>620900</td>\n",
       "      <td>37.85</td>\n",
       "      <td>2.362182</td>\n",
       "      <td>0</td>\n",
       "      <td>0</td>\n",
       "      <td>-1</td>\n",
       "      <td>0</td>\n",
       "      <td>1.0</td>\n",
       "      <td>0.0</td>\n",
       "    </tr>\n",
       "    <tr>\n",
       "      <th>2006-05-24</th>\n",
       "      <td>64.83</td>\n",
       "      <td>65.16</td>\n",
       "      <td>63.22</td>\n",
       "      <td>64.06</td>\n",
       "      <td>11065600</td>\n",
       "      <td>64.06</td>\n",
       "      <td>37.13</td>\n",
       "      <td>37.57</td>\n",
       "      <td>35.87</td>\n",
       "      <td>36.52</td>\n",
       "      <td>638600</td>\n",
       "      <td>36.41</td>\n",
       "      <td>2.376914</td>\n",
       "      <td>0</td>\n",
       "      <td>0</td>\n",
       "      <td>-1</td>\n",
       "      <td>0</td>\n",
       "      <td>1.0</td>\n",
       "      <td>0.0</td>\n",
       "    </tr>\n",
       "    <tr>\n",
       "      <th>2006-05-25</th>\n",
       "      <td>64.12</td>\n",
       "      <td>64.76</td>\n",
       "      <td>63.76</td>\n",
       "      <td>64.70</td>\n",
       "      <td>6505400</td>\n",
       "      <td>64.70</td>\n",
       "      <td>37.18</td>\n",
       "      <td>38.32</td>\n",
       "      <td>36.98</td>\n",
       "      <td>38.32</td>\n",
       "      <td>367000</td>\n",
       "      <td>38.21</td>\n",
       "      <td>1.196462</td>\n",
       "      <td>0</td>\n",
       "      <td>0</td>\n",
       "      <td>0</td>\n",
       "      <td>0</td>\n",
       "      <td>NaN</td>\n",
       "      <td>0.0</td>\n",
       "    </tr>\n",
       "    <tr>\n",
       "      <th>2006-05-26</th>\n",
       "      <td>65.01</td>\n",
       "      <td>65.10</td>\n",
       "      <td>63.75</td>\n",
       "      <td>65.10</td>\n",
       "      <td>5265900</td>\n",
       "      <td>65.10</td>\n",
       "      <td>38.74</td>\n",
       "      <td>38.74</td>\n",
       "      <td>37.77</td>\n",
       "      <td>38.55</td>\n",
       "      <td>269400</td>\n",
       "      <td>38.44</td>\n",
       "      <td>1.209248</td>\n",
       "      <td>0</td>\n",
       "      <td>0</td>\n",
       "      <td>0</td>\n",
       "      <td>0</td>\n",
       "      <td>NaN</td>\n",
       "      <td>0.0</td>\n",
       "    </tr>\n",
       "    <tr>\n",
       "      <th>2006-05-30</th>\n",
       "      <td>65.20</td>\n",
       "      <td>66.24</td>\n",
       "      <td>65.00</td>\n",
       "      <td>65.11</td>\n",
       "      <td>8240200</td>\n",
       "      <td>65.11</td>\n",
       "      <td>39.50</td>\n",
       "      <td>39.72</td>\n",
       "      <td>38.11</td>\n",
       "      <td>38.17</td>\n",
       "      <td>559100</td>\n",
       "      <td>38.06</td>\n",
       "      <td>1.533068</td>\n",
       "      <td>0</td>\n",
       "      <td>0</td>\n",
       "      <td>0</td>\n",
       "      <td>0</td>\n",
       "      <td>NaN</td>\n",
       "      <td>0.0</td>\n",
       "    </tr>\n",
       "  </tbody>\n",
       "</table>\n",
       "</div>"
      ],
      "text/plain": [
       "            Open_GLD  High_GLD  Low_GLD  Close_GLD  Volume_GLD  Adj Close_GLD  \\\n",
       "Date                                                                            \n",
       "2006-05-23     65.99     67.16    65.91      66.38    10509700          66.38   \n",
       "2006-05-24     64.83     65.16    63.22      64.06    11065600          64.06   \n",
       "2006-05-25     64.12     64.76    63.76      64.70     6505400          64.70   \n",
       "2006-05-26     65.01     65.10    63.75      65.10     5265900          65.10   \n",
       "2006-05-30     65.20     66.24    65.00      65.11     8240200          65.11   \n",
       "\n",
       "            Open_GDX  High_GDX  Low_GDX  Close_GDX  Volume_GDX  Adj Close_GDX  \\\n",
       "Date                                                                            \n",
       "2006-05-23     37.75     39.22    37.75      37.96      620900          37.85   \n",
       "2006-05-24     37.13     37.57    35.87      36.52      638600          36.41   \n",
       "2006-05-25     37.18     38.32    36.98      38.32      367000          38.21   \n",
       "2006-05-26     38.74     38.74    37.77      38.55      269400          38.44   \n",
       "2006-05-30     39.50     39.72    38.11      38.17      559100          38.06   \n",
       "\n",
       "              zscore  positions_GLD_Long  positions_GLX_Long  \\\n",
       "Date                                                           \n",
       "2006-05-23  2.362182                   0                   0   \n",
       "2006-05-24  2.376914                   0                   0   \n",
       "2006-05-25  1.196462                   0                   0   \n",
       "2006-05-26  1.209248                   0                   0   \n",
       "2006-05-30  1.533068                   0                   0   \n",
       "\n",
       "            positions_GLD_Short  positions_GLX_Short  positions_GDX_Short  \\\n",
       "Date                                                                        \n",
       "2006-05-23                   -1                    0                  1.0   \n",
       "2006-05-24                   -1                    0                  1.0   \n",
       "2006-05-25                    0                    0                  NaN   \n",
       "2006-05-26                    0                    0                  NaN   \n",
       "2006-05-30                    0                    0                  NaN   \n",
       "\n",
       "            positions_GDX_Long  \n",
       "Date                            \n",
       "2006-05-23                 0.0  \n",
       "2006-05-24                 0.0  \n",
       "2006-05-25                 0.0  \n",
       "2006-05-26                 0.0  \n",
       "2006-05-30                 0.0  "
      ]
     },
     "execution_count": 72,
     "metadata": {},
     "output_type": "execute_result"
    }
   ],
   "source": [
    "df['zscore'] = (spread - spreadmean) / spreadstd\n",
    "df['positions_GLD_Long'] = 0\n",
    "df['positions_GLX_Long'] = 0\n",
    "df['positions_GLD_Short'] = 0\n",
    "df['positions_GLX_Short'] = 0\n",
    "# Short spread\n",
    "df.loc[df.zscore >= 2, ('positions_GLD_Short', 'positions_GDX_Short')] = [-1, 1]\n",
    "# Exit Short spread\n",
    "df.loc[df.zscore <= 1, ('positions_GLD_Short', 'positions_GDX_Short')] = 0\n",
    "# Long spread\n",
    "df.loc[df.zscore <= -2, ('positions_GLD_Long', 'positions_GDX_Long')] = [1, -1]\n",
    "# Exit Long spread\n",
    "df.loc[df.zscore >= -1, ('positions_GLD_Long', 'positions_GDX_Long')] = 0\n",
    "df.head()"
   ]
  },
  {
   "cell_type": "code",
   "execution_count": 73,
   "metadata": {},
   "outputs": [],
   "source": [
    "# Ensures that existing positions are carried forward unless there is an exit signal\n",
    "df.fillna(method='ffill', inplace=True)"
   ]
  },
  {
   "cell_type": "code",
   "execution_count": 74,
   "metadata": {},
   "outputs": [
    {
     "data": {
      "text/html": [
       "<div>\n",
       "<style scoped>\n",
       "    .dataframe tbody tr th:only-of-type {\n",
       "        vertical-align: middle;\n",
       "    }\n",
       "\n",
       "    .dataframe tbody tr th {\n",
       "        vertical-align: top;\n",
       "    }\n",
       "\n",
       "    .dataframe thead th {\n",
       "        text-align: right;\n",
       "    }\n",
       "</style>\n",
       "<table border=\"1\" class=\"dataframe\">\n",
       "  <thead>\n",
       "    <tr style=\"text-align: right;\">\n",
       "      <th></th>\n",
       "      <th>GLD</th>\n",
       "      <th>GDX</th>\n",
       "    </tr>\n",
       "    <tr>\n",
       "      <th>Date</th>\n",
       "      <th></th>\n",
       "      <th></th>\n",
       "    </tr>\n",
       "  </thead>\n",
       "  <tbody>\n",
       "    <tr>\n",
       "      <th>2006-05-23</th>\n",
       "      <td>-1.0</td>\n",
       "      <td>1.0</td>\n",
       "    </tr>\n",
       "    <tr>\n",
       "      <th>2006-05-24</th>\n",
       "      <td>-1.0</td>\n",
       "      <td>1.0</td>\n",
       "    </tr>\n",
       "    <tr>\n",
       "      <th>2006-05-25</th>\n",
       "      <td>0.0</td>\n",
       "      <td>1.0</td>\n",
       "    </tr>\n",
       "    <tr>\n",
       "      <th>2006-05-26</th>\n",
       "      <td>0.0</td>\n",
       "      <td>1.0</td>\n",
       "    </tr>\n",
       "    <tr>\n",
       "      <th>2006-05-30</th>\n",
       "      <td>0.0</td>\n",
       "      <td>1.0</td>\n",
       "    </tr>\n",
       "  </tbody>\n",
       "</table>\n",
       "</div>"
      ],
      "text/plain": [
       "            GLD  GDX\n",
       "Date                \n",
       "2006-05-23 -1.0  1.0\n",
       "2006-05-24 -1.0  1.0\n",
       "2006-05-25  0.0  1.0\n",
       "2006-05-26  0.0  1.0\n",
       "2006-05-30  0.0  1.0"
      ]
     },
     "execution_count": 74,
     "metadata": {},
     "output_type": "execute_result"
    }
   ],
   "source": [
    "positions_Long = df.loc[:, ['positions_GLD_Long', 'positions_GDX_Long']]\n",
    "positions_Short = df.loc[:, ['positions_GLD_Short', 'positions_GDX_Short']]\n",
    "positions = np.array(positions_Long) + np.array(positions_Short)\n",
    "positions = pd.DataFrame(positions, columns=['GLD', 'GDX'], index=df.index)\n",
    "positions.head()"
   ]
  },
  {
   "cell_type": "code",
   "execution_count": 75,
   "metadata": {},
   "outputs": [],
   "source": [
    "daily_returns = df.loc[:, ['Adj Close_GLD', 'Adj Close_GDX']].pct_change()\n",
    "pnl = (np.array(positions.shift()) * np.array(daily_returns)).sum(axis=1)"
   ]
  },
  {
   "cell_type": "code",
   "execution_count": 76,
   "metadata": {},
   "outputs": [
    {
     "name": "stdout",
     "output_type": "stream",
     "text": [
      "Sharpe Ratio (Train): 2.2783\n"
     ]
    }
   ],
   "source": [
    "sharpe_train = np.sqrt(252) * np.mean(pnl[train[1:]]) / np.std(pnl[train[1:]])\n",
    "print(f'Sharpe Ratio (Train): {sharpe_train:.4f}')"
   ]
  },
  {
   "cell_type": "code",
   "execution_count": 77,
   "metadata": {},
   "outputs": [
    {
     "name": "stdout",
     "output_type": "stream",
     "text": [
      "Sharpe Ratio (Test): 1.8085\n"
     ]
    }
   ],
   "source": [
    "sharpe_test = np.sqrt(252) * np.mean(pnl[test[1:]]) / np.std(pnl[test[1:]])\n",
    "print(f'Sharpe Ratio (Test): {sharpe_test:.4f}')"
   ]
  },
  {
   "attachments": {},
   "cell_type": "markdown",
   "metadata": {},
   "source": [
    "Plot the cumulative PNL sum of the strategy."
   ]
  },
  {
   "cell_type": "code",
   "execution_count": 78,
   "metadata": {},
   "outputs": [
    {
     "data": {
      "image/png": "[encoded data removed]",
      "text/plain": [
       "<Figure size 432x288 with 1 Axes>"
      ]
     },
     "metadata": {
      "needs_background": "light"
     },
     "output_type": "display_data"
    }
   ],
   "source": [
    "plt.plot(np.cumsum(pnl[test]))\n",
    "plt.title('Cumulative Returns')\n",
    "plt.show()"
   ]
  },
  {
   "cell_type": "code",
   "execution_count": null,
   "metadata": {},
   "outputs": [],
   "source": []
  }
 ],
 "metadata": {
  "kernelspec": {
   "display_name": "Python 3",
   "language": "python",
   "name": "python3"
  },
  "language_info": {
   "codemirror_mode": {
    "name": "ipython",
    "version": 3
   },
   "file_extension": ".py",
   "mimetype": "text/x-python",
   "name": "python",
   "nbconvert_exporter": "python",
   "pygments_lexer": "ipython3",
   "version": "3.9.12"
  },
  "orig_nbformat": 4,
  "vscode": {
   "interpreter": {
    "hash": "6878569262a6e222d2bf9767f8c76a5e9f33c66f4b81d8aa952494e1f3a0e918"
   }
  }
 },
 "nbformat": 4,
 "nbformat_minor": 2
}
