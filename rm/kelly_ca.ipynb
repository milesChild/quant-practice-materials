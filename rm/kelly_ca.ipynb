{
 "cells": [
  {
   "attachments": {},
   "cell_type": "markdown",
   "metadata": {},
   "source": [
    "## Calculating optimal leverage using the Kelly Formula\n",
    "\n",
    "The Kelly formula calculates the optimal capital allocation and leverage to apply to each strategy in a portfolio of strategies so as to maximize the long term growth rate of the portfolio.\n",
    "\n",
    "Kelly should be used to denote the maximum leverage allowed for a strategy, not the total to use in one order (especially for higher frequency strategies).\n",
    "\n",
    "Notes:\n",
    "- Kelly betting allows insurance against total ruin (prevents total loss of capital)\n",
    "- Kelly betting requires continuous reallocation of the portfolio based on changes in strategy return means and standard deviations ($\\geq$ 1x per day)\n",
    "- Lookback period for calculation of $F^*$ should be a function of the average holding period of each strategy, or 6 months for intraday only strategies\n",
    "- Assume that all trading profits are reinvested into the portfolio\n",
    "- The method is slightly flawed as we will approximate the returns (excess returns) distribution of each strategy to be Gaussian"
   ]
  },
  {
   "attachments": {},
   "cell_type": "markdown",
   "metadata": {},
   "source": [
    "Formula for optimal capital allocation:\n",
    "\n",
    "#### $F^{*} = C^{-1}M$\n",
    "- $F^{*}$: optimal fractions of total equity that should be allocated to each strategy $f_{1...N}$\n",
    "- $C$: covariance matrix where $C_{i, j} is the covariance of the returns between strategies i and j (-1 because inverse)\n",
    "- $M$: column vector of the mean returns of each strategy (uncompounded, unlevered returns)\n",
    "\n",
    "\n",
    "Assuming all strategies are independent of eachother, the covariance matrix becomes diagonal and we can simplify the above to:\n",
    "\n",
    "#### Kelly Formula: $f_{i} = \\frac{m_{i}}{s_{i}^2}$\n",
    "- $m_{i}$: $i^{th}$ strategy's mean returns\n",
    "- $s_{i}$: $i^{th}$ strategy's standard deviation of returns"
   ]
  },
  {
   "attachments": {},
   "cell_type": "markdown",
   "metadata": {},
   "source": [
    "Using Kelly to calculate the optimal leverage allocation between a portfolio of three ETFs"
   ]
  },
  {
   "cell_type": "code",
   "execution_count": 2,
   "metadata": {},
   "outputs": [],
   "source": [
    "# imports\n",
    "import pandas as pd\n",
    "import numpy as np\n",
    "from numpy.linalg import inv"
   ]
  },
  {
   "cell_type": "code",
   "execution_count": 3,
   "metadata": {},
   "outputs": [
    {
     "data": {
      "text/html": [
       "<div>\n",
       "<style scoped>\n",
       "    .dataframe tbody tr th:only-of-type {\n",
       "        vertical-align: middle;\n",
       "    }\n",
       "\n",
       "    .dataframe tbody tr th {\n",
       "        vertical-align: top;\n",
       "    }\n",
       "\n",
       "    .dataframe thead th {\n",
       "        text-align: right;\n",
       "    }\n",
       "</style>\n",
       "<table border=\"1\" class=\"dataframe\">\n",
       "  <thead>\n",
       "    <tr style=\"text-align: right;\">\n",
       "      <th></th>\n",
       "      <th>Open_OIH</th>\n",
       "      <th>High_OIH</th>\n",
       "      <th>Low_OIH</th>\n",
       "      <th>Close_OIH</th>\n",
       "      <th>Volume_OIH</th>\n",
       "      <th>Adj Close_OIH</th>\n",
       "      <th>Open_RKH</th>\n",
       "      <th>High_RKH</th>\n",
       "      <th>Low_RKH</th>\n",
       "      <th>Close_RKH</th>\n",
       "      <th>Volume_RKH</th>\n",
       "      <th>Adj Close_RKH</th>\n",
       "      <th>Open</th>\n",
       "      <th>High</th>\n",
       "      <th>Low</th>\n",
       "      <th>Close</th>\n",
       "      <th>Volume</th>\n",
       "      <th>Adj Close_RTH</th>\n",
       "    </tr>\n",
       "    <tr>\n",
       "      <th>Date</th>\n",
       "      <th></th>\n",
       "      <th></th>\n",
       "      <th></th>\n",
       "      <th></th>\n",
       "      <th></th>\n",
       "      <th></th>\n",
       "      <th></th>\n",
       "      <th></th>\n",
       "      <th></th>\n",
       "      <th></th>\n",
       "      <th></th>\n",
       "      <th></th>\n",
       "      <th></th>\n",
       "      <th></th>\n",
       "      <th></th>\n",
       "      <th></th>\n",
       "      <th></th>\n",
       "      <th></th>\n",
       "    </tr>\n",
       "  </thead>\n",
       "  <tbody>\n",
       "    <tr>\n",
       "      <th>2001-05-17</th>\n",
       "      <td>91.25</td>\n",
       "      <td>94.00</td>\n",
       "      <td>90.25</td>\n",
       "      <td>93.93</td>\n",
       "      <td>276900</td>\n",
       "      <td>84.60</td>\n",
       "      <td>115.40</td>\n",
       "      <td>117.00</td>\n",
       "      <td>115.40</td>\n",
       "      <td>116.25</td>\n",
       "      <td>18500</td>\n",
       "      <td>93.63</td>\n",
       "      <td>97.75</td>\n",
       "      <td>98.45</td>\n",
       "      <td>97.70</td>\n",
       "      <td>98.00</td>\n",
       "      <td>14200</td>\n",
       "      <td>87.09</td>\n",
       "    </tr>\n",
       "    <tr>\n",
       "      <th>2001-05-18</th>\n",
       "      <td>94.00</td>\n",
       "      <td>96.04</td>\n",
       "      <td>93.80</td>\n",
       "      <td>94.70</td>\n",
       "      <td>546300</td>\n",
       "      <td>85.30</td>\n",
       "      <td>116.50</td>\n",
       "      <td>116.70</td>\n",
       "      <td>115.85</td>\n",
       "      <td>115.85</td>\n",
       "      <td>81800</td>\n",
       "      <td>93.31</td>\n",
       "      <td>97.30</td>\n",
       "      <td>97.75</td>\n",
       "      <td>97.25</td>\n",
       "      <td>97.75</td>\n",
       "      <td>1900</td>\n",
       "      <td>86.87</td>\n",
       "    </tr>\n",
       "    <tr>\n",
       "      <th>2001-05-21</th>\n",
       "      <td>95.10</td>\n",
       "      <td>95.58</td>\n",
       "      <td>93.96</td>\n",
       "      <td>95.55</td>\n",
       "      <td>627500</td>\n",
       "      <td>86.06</td>\n",
       "      <td>116.00</td>\n",
       "      <td>116.00</td>\n",
       "      <td>115.00</td>\n",
       "      <td>116.00</td>\n",
       "      <td>26500</td>\n",
       "      <td>93.43</td>\n",
       "      <td>98.20</td>\n",
       "      <td>100.15</td>\n",
       "      <td>97.80</td>\n",
       "      <td>99.95</td>\n",
       "      <td>15900</td>\n",
       "      <td>88.83</td>\n",
       "    </tr>\n",
       "    <tr>\n",
       "      <th>2001-05-22</th>\n",
       "      <td>95.46</td>\n",
       "      <td>95.46</td>\n",
       "      <td>93.70</td>\n",
       "      <td>94.10</td>\n",
       "      <td>371700</td>\n",
       "      <td>84.76</td>\n",
       "      <td>115.80</td>\n",
       "      <td>118.60</td>\n",
       "      <td>115.80</td>\n",
       "      <td>118.13</td>\n",
       "      <td>37900</td>\n",
       "      <td>95.15</td>\n",
       "      <td>99.75</td>\n",
       "      <td>100.90</td>\n",
       "      <td>99.15</td>\n",
       "      <td>100.10</td>\n",
       "      <td>88500</td>\n",
       "      <td>88.96</td>\n",
       "    </tr>\n",
       "    <tr>\n",
       "      <th>2001-05-23</th>\n",
       "      <td>93.00</td>\n",
       "      <td>93.00</td>\n",
       "      <td>90.52</td>\n",
       "      <td>90.57</td>\n",
       "      <td>682400</td>\n",
       "      <td>81.58</td>\n",
       "      <td>117.75</td>\n",
       "      <td>118.16</td>\n",
       "      <td>117.41</td>\n",
       "      <td>118.00</td>\n",
       "      <td>21300</td>\n",
       "      <td>95.04</td>\n",
       "      <td>98.80</td>\n",
       "      <td>98.80</td>\n",
       "      <td>97.95</td>\n",
       "      <td>98.20</td>\n",
       "      <td>4300</td>\n",
       "      <td>87.27</td>\n",
       "    </tr>\n",
       "  </tbody>\n",
       "</table>\n",
       "</div>"
      ],
      "text/plain": [
       "            Open_OIH  High_OIH  Low_OIH  Close_OIH  Volume_OIH  Adj Close_OIH  \\\n",
       "Date                                                                            \n",
       "2001-05-17     91.25     94.00    90.25      93.93      276900          84.60   \n",
       "2001-05-18     94.00     96.04    93.80      94.70      546300          85.30   \n",
       "2001-05-21     95.10     95.58    93.96      95.55      627500          86.06   \n",
       "2001-05-22     95.46     95.46    93.70      94.10      371700          84.76   \n",
       "2001-05-23     93.00     93.00    90.52      90.57      682400          81.58   \n",
       "\n",
       "            Open_RKH  High_RKH  Low_RKH  Close_RKH  Volume_RKH  Adj Close_RKH  \\\n",
       "Date                                                                            \n",
       "2001-05-17    115.40    117.00   115.40     116.25       18500          93.63   \n",
       "2001-05-18    116.50    116.70   115.85     115.85       81800          93.31   \n",
       "2001-05-21    116.00    116.00   115.00     116.00       26500          93.43   \n",
       "2001-05-22    115.80    118.60   115.80     118.13       37900          95.15   \n",
       "2001-05-23    117.75    118.16   117.41     118.00       21300          95.04   \n",
       "\n",
       "             Open    High    Low   Close  Volume  Adj Close_RTH  \n",
       "Date                                                             \n",
       "2001-05-17  97.75   98.45  97.70   98.00   14200          87.09  \n",
       "2001-05-18  97.30   97.75  97.25   97.75    1900          86.87  \n",
       "2001-05-21  98.20  100.15  97.80   99.95   15900          88.83  \n",
       "2001-05-22  99.75  100.90  99.15  100.10   88500          88.96  \n",
       "2001-05-23  98.80   98.80  97.95   98.20    4300          87.27  "
      ]
     },
     "execution_count": 3,
     "metadata": {},
     "output_type": "execute_result"
    }
   ],
   "source": [
    "# Data ingestion and EDA\n",
    "oih_df = pd.read_excel('OIH.xls')\n",
    "rkh_df = pd.read_excel('RKH.xls')\n",
    "df = pd.merge(oih_df, rkh_df, on='Date', suffixes=('_OIH', '_RKH'))\n",
    "rth_df = pd.read_excel('RTH.xls')\n",
    "df = pd.merge(df, rth_df, on='Date')\n",
    "df.rename(columns={'Adj Close': 'Adj Close_RTH'}, inplace=True)\n",
    "df.set_index('Date', inplace=True)\n",
    "df.sort_index(inplace=True)\n",
    "df.head()"
   ]
  },
  {
   "cell_type": "code",
   "execution_count": 4,
   "metadata": {},
   "outputs": [
    {
     "data": {
      "text/html": [
       "<div>\n",
       "<style scoped>\n",
       "    .dataframe tbody tr th:only-of-type {\n",
       "        vertical-align: middle;\n",
       "    }\n",
       "\n",
       "    .dataframe tbody tr th {\n",
       "        vertical-align: top;\n",
       "    }\n",
       "\n",
       "    .dataframe thead th {\n",
       "        text-align: right;\n",
       "    }\n",
       "</style>\n",
       "<table border=\"1\" class=\"dataframe\">\n",
       "  <thead>\n",
       "    <tr style=\"text-align: right;\">\n",
       "      <th></th>\n",
       "      <th>OIH</th>\n",
       "      <th>RKH</th>\n",
       "      <th>RTH</th>\n",
       "    </tr>\n",
       "    <tr>\n",
       "      <th>Date</th>\n",
       "      <th></th>\n",
       "      <th></th>\n",
       "      <th></th>\n",
       "    </tr>\n",
       "  </thead>\n",
       "  <tbody>\n",
       "    <tr>\n",
       "      <th>2001-05-17</th>\n",
       "      <td>NaN</td>\n",
       "      <td>NaN</td>\n",
       "      <td>NaN</td>\n",
       "    </tr>\n",
       "    <tr>\n",
       "      <th>2001-05-18</th>\n",
       "      <td>0.008116</td>\n",
       "      <td>-0.003576</td>\n",
       "      <td>-0.002685</td>\n",
       "    </tr>\n",
       "    <tr>\n",
       "      <th>2001-05-21</th>\n",
       "      <td>0.008751</td>\n",
       "      <td>0.001127</td>\n",
       "      <td>0.022404</td>\n",
       "    </tr>\n",
       "    <tr>\n",
       "      <th>2001-05-22</th>\n",
       "      <td>-0.015264</td>\n",
       "      <td>0.018251</td>\n",
       "      <td>0.001305</td>\n",
       "    </tr>\n",
       "    <tr>\n",
       "      <th>2001-05-23</th>\n",
       "      <td>-0.037676</td>\n",
       "      <td>-0.001315</td>\n",
       "      <td>-0.019156</td>\n",
       "    </tr>\n",
       "  </tbody>\n",
       "</table>\n",
       "</div>"
      ],
      "text/plain": [
       "                 OIH       RKH       RTH\n",
       "Date                                    \n",
       "2001-05-17       NaN       NaN       NaN\n",
       "2001-05-18  0.008116 -0.003576 -0.002685\n",
       "2001-05-21  0.008751  0.001127  0.022404\n",
       "2001-05-22 -0.015264  0.018251  0.001305\n",
       "2001-05-23 -0.037676 -0.001315 -0.019156"
      ]
     },
     "execution_count": 4,
     "metadata": {},
     "output_type": "execute_result"
    }
   ],
   "source": [
    "# Calculate daily returns\n",
    "daily_ret = df.loc[:, ('Adj Close_OIH', 'Adj Close_RKH', 'Adj Close_RTH')].pct_change()\n",
    "daily_ret.rename(columns={'Adj Close_OIH': 'OIH', 'Adj Close_RKH': 'RKH', 'Adj Close_RTH': 'RTH'}, inplace=True)\n",
    "rfr = 0.04\n",
    "excess_ret = daily_ret - rfr/252\n",
    "excess_ret.head()"
   ]
  },
  {
   "cell_type": "code",
   "execution_count": 6,
   "metadata": {},
   "outputs": [
    {
     "data": {
      "text/plain": [
       "OIH    0.139568\n",
       "RKH    0.029400\n",
       "RTH   -0.007346\n",
       "dtype: float64"
      ]
     },
     "execution_count": 6,
     "metadata": {},
     "output_type": "execute_result"
    }
   ],
   "source": [
    "M = 252 * excess_ret.mean()  # The mean of the excess returns\n",
    "M"
   ]
  },
  {
   "cell_type": "code",
   "execution_count": 7,
   "metadata": {},
   "outputs": [
    {
     "data": {
      "text/html": [
       "<div>\n",
       "<style scoped>\n",
       "    .dataframe tbody tr th:only-of-type {\n",
       "        vertical-align: middle;\n",
       "    }\n",
       "\n",
       "    .dataframe tbody tr th {\n",
       "        vertical-align: top;\n",
       "    }\n",
       "\n",
       "    .dataframe thead th {\n",
       "        text-align: right;\n",
       "    }\n",
       "</style>\n",
       "<table border=\"1\" class=\"dataframe\">\n",
       "  <thead>\n",
       "    <tr style=\"text-align: right;\">\n",
       "      <th></th>\n",
       "      <th>OIH</th>\n",
       "      <th>RKH</th>\n",
       "      <th>RTH</th>\n",
       "    </tr>\n",
       "  </thead>\n",
       "  <tbody>\n",
       "    <tr>\n",
       "      <th>OIH</th>\n",
       "      <td>0.110901</td>\n",
       "      <td>0.020014</td>\n",
       "      <td>0.018255</td>\n",
       "    </tr>\n",
       "    <tr>\n",
       "      <th>RKH</th>\n",
       "      <td>0.020014</td>\n",
       "      <td>0.037165</td>\n",
       "      <td>0.026893</td>\n",
       "    </tr>\n",
       "    <tr>\n",
       "      <th>RTH</th>\n",
       "      <td>0.018255</td>\n",
       "      <td>0.026893</td>\n",
       "      <td>0.041967</td>\n",
       "    </tr>\n",
       "  </tbody>\n",
       "</table>\n",
       "</div>"
      ],
      "text/plain": [
       "          OIH       RKH       RTH\n",
       "OIH  0.110901  0.020014  0.018255\n",
       "RKH  0.020014  0.037165  0.026893\n",
       "RTH  0.018255  0.026893  0.041967"
      ]
     },
     "execution_count": 7,
     "metadata": {},
     "output_type": "execute_result"
    }
   ],
   "source": [
    "C = 252 * excess_ret.cov()  # The covariance matrix of the excess returns\n",
    "C"
   ]
  },
  {
   "cell_type": "code",
   "execution_count": 8,
   "metadata": {},
   "outputs": [
    {
     "data": {
      "text/plain": [
       "array([ 1.2919082 ,  1.17226473, -1.48821285])"
      ]
     },
     "execution_count": 8,
     "metadata": {},
     "output_type": "execute_result"
    }
   ],
   "source": [
    "F = np.dot(inv(C), M)  # The factor loadings\n",
    "F"
   ]
  },
  {
   "cell_type": "code",
   "execution_count": 14,
   "metadata": {},
   "outputs": [
    {
     "name": "stdout",
     "output_type": "stream",
     "text": [
      "Maximum annualized compounted growth rate: 0.1529\n"
     ]
    }
   ],
   "source": [
    "g = .04 + np.dot(F.T, np.dot(C, F))/2  # Max CAGR\n",
    "print(f'Maximum annualized compounted growth rate: {g:.4f}')"
   ]
  },
  {
   "cell_type": "code",
   "execution_count": 15,
   "metadata": {},
   "outputs": [
    {
     "name": "stdout",
     "output_type": "stream",
     "text": [
      "Sharpe Ratio of Portfolio: 0.4751\n"
     ]
    }
   ],
   "source": [
    "S = np.sqrt(np.dot(F.T, np.dot(C, F)))  # Portfolio Sharpe\n",
    "print(f'Sharpe Ratio of Portfolio: {S:.4f}')"
   ]
  },
  {
   "attachments": {},
   "cell_type": "markdown",
   "metadata": {},
   "source": [
    "## Graduated Kelly betting for extra risk control\n",
    "\n",
    "Rather than using the optimal leverage suggested by the Kelly formula, we can use a combination of \"half-kelly betting\" and maximum tolerable capital loss to allocate capital.\n",
    "\n",
    "Revised Formula:\n",
    "\n",
    "$leverage = min(\\frac{T_p}{D_p}, \\frac{kelly}{2})$\n",
    "- $T_p$: maximum tolerable equity loss for one period $p$\n",
    "- $D_p$: maximum drawdown recorded in one period $p$"
   ]
  }
 ],
 "metadata": {
  "kernelspec": {
   "display_name": "base",
   "language": "python",
   "name": "python3"
  },
  "language_info": {
   "codemirror_mode": {
    "name": "ipython",
    "version": 3
   },
   "file_extension": ".py",
   "mimetype": "text/x-python",
   "name": "python",
   "nbconvert_exporter": "python",
   "pygments_lexer": "ipython3",
   "version": "3.9.12"
  },
  "orig_nbformat": 4,
  "vscode": {
   "interpreter": {
    "hash": "c44aa994c3291d7bb0242f243a95965d05fff15d3ffec4d67e7da920a928aef6"
   }
  }
 },
 "nbformat": 4,
 "nbformat_minor": 2
}
